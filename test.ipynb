{
 "cells": [
  {
   "cell_type": "code",
   "execution_count": 1,
   "metadata": {},
   "outputs": [],
   "source": [
    "from solver import solve_from_file"
   ]
  },
  {
   "cell_type": "code",
   "execution_count": 3,
   "metadata": {},
   "outputs": [
    {
     "name": "stdout",
     "output_type": "stream",
     "text": [
      "Processing inputs/practice.in\n",
      "--------\n",
      "k=1 k_max=7 |  s=1 s_max=2\n",
      "Made Graph G_prime\n",
      "The cost is 8.0.\n",
      "** Computed TSP Tour **\n",
      "--------\n",
      "k=2 k_max=7 |  s=1 s_max=2\n",
      "Made Graph G_prime\n",
      "The cost is 8.0.\n",
      "** Computed TSP Tour **\n",
      "--------\n",
      "k=3 k_max=7 |  s=1 s_max=2\n",
      "Made Graph G_prime\n",
      "The cost is 8.0.\n",
      "** Computed TSP Tour **\n",
      "--------\n",
      "k=4 k_max=7 |  s=1 s_max=2\n",
      "Made Graph G_prime\n",
      "The cost is 6.0.\n",
      "** Computed TSP Tour **\n",
      "--------\n",
      "k=5 k_max=7 |  s=1 s_max=2\n",
      "Made Graph G_prime\n",
      "The cost is 4.0.\n",
      "** Computed TSP Tour **\n",
      "--------\n",
      "k=6 k_max=7 |  s=1 s_max=2\n",
      "BEST COST: 5.333333333333333\n"
     ]
    }
   ],
   "source": [
    "solve_from_file(\"inputs/practice.in\", \"outputs_tsp\", [\"TwoOpt\"])"
   ]
  },
  {
   "cell_type": "code",
   "execution_count": null,
   "metadata": {},
   "outputs": [],
   "source": []
  }
 ],
 "metadata": {
  "kernelspec": {
   "display_name": "Python 3",
   "language": "python",
   "name": "python3"
  },
  "language_info": {
   "codemirror_mode": {
    "name": "ipython",
    "version": 3
   },
   "file_extension": ".py",
   "mimetype": "text/x-python",
   "name": "python",
   "nbconvert_exporter": "python",
   "pygments_lexer": "ipython3",
   "version": "3.7.3"
  }
 },
 "nbformat": 4,
 "nbformat_minor": 2
}

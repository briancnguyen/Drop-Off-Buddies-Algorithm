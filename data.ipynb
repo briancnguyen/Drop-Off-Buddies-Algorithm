{
 "cells": [
  {
   "cell_type": "code",
   "execution_count": 1,
   "metadata": {},
   "outputs": [],
   "source": [
    "import numpy as np\n",
    "import pandas as pd\n",
    "import os"
   ]
  },
  {
   "cell_type": "markdown",
   "metadata": {},
   "source": [
    "# Helper Functions"
   ]
  },
  {
   "cell_type": "code",
   "execution_count": 2,
   "metadata": {},
   "outputs": [],
   "source": [
    "def output_data(file, algorithm):\n",
    "    data = pd.read_csv(file, sep=\" \", header=None, error_bad_lines=False)\n",
    "    if data.shape[1] == 5:\n",
    "        data.drop(data.columns[len(data.columns) - 1], axis=1, inplace=True)\n",
    "    data.columns = [\"k\", \"s\", \"cost\", \"file\"]\n",
    "    data['algorithm'] = algorithm\n",
    "    return data\n",
    "\n",
    "\n",
    "def count_files(directory, input_size, extension):\n",
    "    count = 0\n",
    "    for filename in os.listdir(directory):\n",
    "        if filename.endswith(str(input_size) + str(extension)):\n",
    "            count += 1\n",
    "    return count"
   ]
  },
  {
   "cell_type": "markdown",
   "metadata": {},
   "source": [
    "## Merge Outputs"
   ]
  },
  {
   "cell_type": "code",
   "execution_count": 3,
   "metadata": {},
   "outputs": [],
   "source": [
    "import shutil\n",
    "import os\n",
    "\n",
    "def copy_outputs(df, output_dir_old, output_dir_new):\n",
    "    if not os.path.exists(output_dir_new):\n",
    "        os.makedirs(output_dir_new)\n",
    "    for file in df['file'].tolist():\n",
    "        file_code = file.split(\"/\")[1].split('.in')[0]\n",
    "        shutil.copy2(str(output_dir_old) + str(file_code) + '.out', str(output_dir_new))\n",
    "        \n",
    "def merge_best_outputs(ant_file, tsp_file, ant_out_dir, tsp_out_dir, final_out_dir):\n",
    "    if ant_file and tsp_file:\n",
    "        ant_data = output_data(ant_file, 'ant')\n",
    "        tsp_data = output_data(tsp_file, 'tsp')\n",
    "        merged_tsp_ant = pd.merge(ant_data, tsp_data, left_on='file', right_on='file', suffixes=('_ant', '_tsp'))\n",
    "        ant_better = merged_tsp_ant[merged_tsp_ant['cost_ant'] < merged_tsp_ant['cost_tsp']]\n",
    "        tsp_better = merged_tsp_ant[merged_tsp_ant['cost_ant'] >= merged_tsp_ant['cost_tsp']]\n",
    "        copy_outputs(ant_better, ant_out_dir, final_out_dir)\n",
    "        copy_outputs(tsp_better, tsp_out_dir, final_out_dir)\n",
    "    elif tsp_file and not ant_file:\n",
    "        tsp_data = output_data(tsp_file, 'tsp')\n",
    "        copy_outputs(tsp_data, tsp_out_dir, final_out_dir)"
   ]
  },
  {
   "cell_type": "code",
   "execution_count": 4,
   "metadata": {},
   "outputs": [
    {
     "data": {
      "text/plain": [
       "(318, 316, 315)"
      ]
     },
     "execution_count": 4,
     "metadata": {},
     "output_type": "execute_result"
    }
   ],
   "source": [
    "in_50 = count_files('inputs', '50', '.in')\n",
    "in_100 = count_files('inputs', '100', '.in')\n",
    "in_200 = count_files('inputs', '200', '.in')\n",
    "in_50, in_100, in_200"
   ]
  },
  {
   "cell_type": "code",
   "execution_count": 5,
   "metadata": {},
   "outputs": [
    {
     "data": {
      "text/plain": [
       "(318, 316, 194)"
      ]
     },
     "execution_count": 5,
     "metadata": {},
     "output_type": "execute_result"
    }
   ],
   "source": [
    "tsp_50 = count_files('outputs_tsp_50', '50', '.out')\n",
    "tsp_100 = count_files('outputs_tsp_100', '100', '.out')\n",
    "tsp_200 = count_files('outputs_tsp_200_old', '200', '.out')\n",
    "tsp_50, tsp_100, tsp_200"
   ]
  },
  {
   "cell_type": "code",
   "execution_count": 6,
   "metadata": {},
   "outputs": [
    {
     "data": {
      "text/plain": [
       "(318, 316)"
      ]
     },
     "execution_count": 6,
     "metadata": {},
     "output_type": "execute_result"
    }
   ],
   "source": [
    "ant_50 = count_files('outputs_ant_50', '50', '.out')\n",
    "ant_100 = count_files('outputs_ant_100', '100', '.out')\n",
    "ant_50, ant_100"
   ]
  },
  {
   "cell_type": "code",
   "execution_count": 7,
   "metadata": {},
   "outputs": [],
   "source": [
    "inputs = set(os.listdir('inputs'))\n",
    "outputs_200 = set(os.listdir('outputs_tsp_200_old'))\n",
    "missing_outputs_200 = []\n",
    "for filename in inputs:\n",
    "    file = filename.split(\".\")[0]\n",
    "    if '_200' in file and file + '.out' not in outputs_200:\n",
    "        missing_outputs_200.append(filename)"
   ]
  },
  {
   "cell_type": "code",
   "execution_count": 8,
   "metadata": {},
   "outputs": [
    {
     "data": {
      "text/plain": [
       "121"
      ]
     },
     "execution_count": 8,
     "metadata": {},
     "output_type": "execute_result"
    }
   ],
   "source": [
    "len(missing_outputs_200)"
   ]
  },
  {
   "cell_type": "code",
   "execution_count": null,
   "metadata": {},
   "outputs": [],
   "source": [
    "missing_outputs_200"
   ]
  },
  {
   "cell_type": "code",
   "execution_count": null,
   "metadata": {},
   "outputs": [],
   "source": [
    "from solver import solve_from_file\n",
    "\n",
    "for missing_input_file in missing_outputs_200:   \n",
    "    solve_from_file('inputs/' + missing_input_file, 'outputs_tsp_200', params=[\"TSP\", \"200\"])"
   ]
  },
  {
   "cell_type": "code",
   "execution_count": null,
   "metadata": {},
   "outputs": [],
   "source": []
  }
 ],
 "metadata": {
  "kernelspec": {
   "display_name": "Python 3",
   "language": "python",
   "name": "python3"
  },
  "language_info": {
   "codemirror_mode": {
    "name": "ipython",
    "version": 3
   },
   "file_extension": ".py",
   "mimetype": "text/x-python",
   "name": "python",
   "nbconvert_exporter": "python",
   "pygments_lexer": "ipython3",
   "version": "3.7.3"
  }
 },
 "nbformat": 4,
 "nbformat_minor": 2
}

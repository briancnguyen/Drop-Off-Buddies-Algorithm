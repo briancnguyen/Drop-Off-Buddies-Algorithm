{
 "cells": [
  {
   "cell_type": "code",
   "execution_count": 1,
   "metadata": {},
   "outputs": [],
   "source": [
    "import numpy as np\n",
    "import pandas as pd\n",
    "import os"
   ]
  },
  {
   "cell_type": "markdown",
   "metadata": {},
   "source": [
    "# Helper Functions"
   ]
  },
  {
   "cell_type": "code",
   "execution_count": 17,
   "metadata": {},
   "outputs": [],
   "source": [
    "def output_data(file, algorithm):\n",
    "    data = pd.read_csv(file, sep=\" \", header=None, error_bad_lines=False)\n",
    "    if data.shape[1] == 5:\n",
    "        data.drop(data.columns[len(data.columns) - 1], axis=1, inplace=True)\n",
    "    data.columns = [\"k\", \"s\", \"cost\", \"file\"]\n",
    "    data['algorithm'] = algorithm\n",
    "    return data\n",
    "\n",
    "\n",
    "def count_files(directory, input_size, extension):\n",
    "    count = 0\n",
    "    for filename in os.listdir(directory):\n",
    "        if filename.endswith(str(input_size) + str(extension)):\n",
    "            count += 1\n",
    "    return count"
   ]
  },
  {
   "cell_type": "markdown",
   "metadata": {},
   "source": [
    "## Merge Outputs"
   ]
  },
  {
   "cell_type": "code",
   "execution_count": 18,
   "metadata": {},
   "outputs": [],
   "source": [
    "import shutil\n",
    "import os\n",
    "\n",
    "def copy_outputs(df, output_dir_old, output_dir_new):\n",
    "    if not os.path.exists(output_dir_new):\n",
    "        os.makedirs(output_dir_new)\n",
    "    for file in df['file'].tolist():\n",
    "        file_code = file.split(\"/\")[1].split('.in')[0]\n",
    "        shutil.copy2(str(output_dir_old) + str(file_code) + '.out', str(output_dir_new))\n",
    "        \n",
    "def merge_best_outputs(ant_file, tsp_file, ant_out_dir, tsp_out_dir, final_out_dir):\n",
    "    if ant_file and tsp_file:\n",
    "        ant_data = output_data(ant_file, 'ant')\n",
    "        tsp_data = output_data(tsp_file, 'tsp')\n",
    "        merged_tsp_ant = pd.merge(ant_data, tsp_data, left_on='file', right_on='file', suffixes=('_ant', '_tsp'))\n",
    "        ant_better = merged_tsp_ant[merged_tsp_ant['cost_ant'] < merged_tsp_ant['cost_tsp']]\n",
    "        tsp_better = merged_tsp_ant[merged_tsp_ant['cost_ant'] >= merged_tsp_ant['cost_tsp']]\n",
    "        copy_outputs(ant_better, ant_out_dir, final_out_dir)\n",
    "        copy_outputs(tsp_better, tsp_out_dir, final_out_dir)\n",
    "    elif tsp_file and not ant_file:\n",
    "        tsp_data = output_data(tsp_file, 'tsp')\n",
    "        copy_outputs(tsp_data, tsp_out_dir, final_out_dir)"
   ]
  },
  {
   "cell_type": "code",
   "execution_count": 19,
   "metadata": {},
   "outputs": [
    {
     "data": {
      "text/html": [
       "<div>\n",
       "<style scoped>\n",
       "    .dataframe tbody tr th:only-of-type {\n",
       "        vertical-align: middle;\n",
       "    }\n",
       "\n",
       "    .dataframe tbody tr th {\n",
       "        vertical-align: top;\n",
       "    }\n",
       "\n",
       "    .dataframe thead th {\n",
       "        text-align: right;\n",
       "    }\n",
       "</style>\n",
       "<table border=\"1\" class=\"dataframe\">\n",
       "  <thead>\n",
       "    <tr style=\"text-align: right;\">\n",
       "      <th></th>\n",
       "      <th>k</th>\n",
       "      <th>s</th>\n",
       "      <th>cost</th>\n",
       "      <th>file</th>\n",
       "      <th>algorithm</th>\n",
       "    </tr>\n",
       "  </thead>\n",
       "  <tbody>\n",
       "    <tr>\n",
       "      <th>0</th>\n",
       "      <td>1</td>\n",
       "      <td>1</td>\n",
       "      <td>2.019085e+02</td>\n",
       "      <td>inputs/85_50.in</td>\n",
       "      <td>tsp</td>\n",
       "    </tr>\n",
       "    <tr>\n",
       "      <th>1</th>\n",
       "      <td>1</td>\n",
       "      <td>1</td>\n",
       "      <td>3.770212e+03</td>\n",
       "      <td>inputs/192_50.in</td>\n",
       "      <td>tsp</td>\n",
       "    </tr>\n",
       "    <tr>\n",
       "      <th>2</th>\n",
       "      <td>6</td>\n",
       "      <td>6</td>\n",
       "      <td>4.333333e+00</td>\n",
       "      <td>inputs/293_50.in</td>\n",
       "      <td>tsp</td>\n",
       "    </tr>\n",
       "    <tr>\n",
       "      <th>3</th>\n",
       "      <td>1</td>\n",
       "      <td>1</td>\n",
       "      <td>7.277832e+01</td>\n",
       "      <td>inputs/78_50.in</td>\n",
       "      <td>tsp</td>\n",
       "    </tr>\n",
       "    <tr>\n",
       "      <th>4</th>\n",
       "      <td>6</td>\n",
       "      <td>6</td>\n",
       "      <td>1.155553e+09</td>\n",
       "      <td>inputs/152_50.in</td>\n",
       "      <td>tsp</td>\n",
       "    </tr>\n",
       "  </tbody>\n",
       "</table>\n",
       "</div>"
      ],
      "text/plain": [
       "   k  s          cost              file algorithm\n",
       "0  1  1  2.019085e+02   inputs/85_50.in       tsp\n",
       "1  1  1  3.770212e+03  inputs/192_50.in       tsp\n",
       "2  6  6  4.333333e+00  inputs/293_50.in       tsp\n",
       "3  1  1  7.277832e+01   inputs/78_50.in       tsp\n",
       "4  6  6  1.155553e+09  inputs/152_50.in       tsp"
      ]
     },
     "execution_count": 19,
     "metadata": {},
     "output_type": "execute_result"
    }
   ],
   "source": [
    "b = output_data('best_tsp_50.txt', 'tsp')\n",
    "b.head()"
   ]
  },
  {
   "cell_type": "code",
   "execution_count": 20,
   "metadata": {},
   "outputs": [
    {
     "data": {
      "text/plain": [
       "(316, 5)"
      ]
     },
     "execution_count": 20,
     "metadata": {},
     "output_type": "execute_result"
    }
   ],
   "source": [
    "b = output_data('best_tsp_100.txt', 'tsp')\n",
    "b.shape"
   ]
  },
  {
   "cell_type": "code",
   "execution_count": 22,
   "metadata": {},
   "outputs": [
    {
     "data": {
      "text/plain": [
       "(318, 316, 315)"
      ]
     },
     "execution_count": 22,
     "metadata": {},
     "output_type": "execute_result"
    }
   ],
   "source": [
    "count_files('inputs', '50', '.in'), count_files('inputs', '100', '.in'), count_files('inputs', '200', '.in')"
   ]
  },
  {
   "cell_type": "code",
   "execution_count": 23,
   "metadata": {},
   "outputs": [
    {
     "data": {
      "text/plain": [
       "194"
      ]
     },
     "execution_count": 23,
     "metadata": {},
     "output_type": "execute_result"
    }
   ],
   "source": [
    "count_files('outputs_tsp_200', '200', '.out')"
   ]
  },
  {
   "cell_type": "code",
   "execution_count": 24,
   "metadata": {},
   "outputs": [
    {
     "data": {
      "text/plain": [
       "316"
      ]
     },
     "execution_count": 24,
     "metadata": {},
     "output_type": "execute_result"
    }
   ],
   "source": [
    "count_files('outputs_tsp_100', '100', '.out')"
   ]
  },
  {
   "cell_type": "code",
   "execution_count": 25,
   "metadata": {},
   "outputs": [
    {
     "data": {
      "text/plain": [
       "318"
      ]
     },
     "execution_count": 25,
     "metadata": {},
     "output_type": "execute_result"
    }
   ],
   "source": [
    "count_files('outputs_tsp_50', '50', '.out')"
   ]
  },
  {
   "cell_type": "code",
   "execution_count": 26,
   "metadata": {},
   "outputs": [
    {
     "data": {
      "text/plain": [
       "318"
      ]
     },
     "execution_count": 26,
     "metadata": {},
     "output_type": "execute_result"
    }
   ],
   "source": [
    "count_files('outputs_ant_50', '50', '.out')"
   ]
  },
  {
   "cell_type": "code",
   "execution_count": 27,
   "metadata": {},
   "outputs": [
    {
     "data": {
      "text/plain": [
       "316"
      ]
     },
     "execution_count": 27,
     "metadata": {},
     "output_type": "execute_result"
    }
   ],
   "source": [
    "count_files('outputs_ant_100', '100', '.out')"
   ]
  },
  {
   "cell_type": "code",
   "execution_count": null,
   "metadata": {},
   "outputs": [],
   "source": [
    "count = 0\n",
    "for filename in os.listdir('outputs'):\n",
    "    count += 1\n",
    "return count"
   ]
  }
 ],
 "metadata": {
  "kernelspec": {
   "display_name": "Python 3",
   "language": "python",
   "name": "python3"
  },
  "language_info": {
   "codemirror_mode": {
    "name": "ipython",
    "version": 3
   },
   "file_extension": ".py",
   "mimetype": "text/x-python",
   "name": "python",
   "nbconvert_exporter": "python",
   "pygments_lexer": "ipython3",
   "version": "3.7.3"
  }
 },
 "nbformat": 4,
 "nbformat_minor": 2
}

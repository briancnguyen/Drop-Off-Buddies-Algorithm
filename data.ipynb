{
 "cells": [
  {
   "cell_type": "code",
   "execution_count": 4,
   "metadata": {},
   "outputs": [],
   "source": [
    "import numpy as np\n",
    "import pandas as pd"
   ]
  },
  {
   "cell_type": "markdown",
   "metadata": {},
   "source": [
    "# Helper Functions"
   ]
  },
  {
   "cell_type": "code",
   "execution_count": 5,
   "metadata": {},
   "outputs": [],
   "source": [
    "def output_data(file, algorithm):\n",
    "    data = pd.read_csv(file, sep=\" \", header=None)\n",
    "    data.columns = [\"k\", \"s\", \"cost\", \"file\", \"algorithm\"]\n",
    "    data['algorithm'] = algorithm\n",
    "    return data"
   ]
  },
  {
   "cell_type": "markdown",
   "metadata": {},
   "source": [
    "# Comparing Ant Colony and 2-opt"
   ]
  },
  {
   "cell_type": "code",
   "execution_count": 6,
   "metadata": {},
   "outputs": [
    {
     "name": "stdout",
     "output_type": "stream",
     "text": [
      "(316, 5)\n"
     ]
    },
    {
     "data": {
      "text/html": [
       "<div>\n",
       "<style scoped>\n",
       "    .dataframe tbody tr th:only-of-type {\n",
       "        vertical-align: middle;\n",
       "    }\n",
       "\n",
       "    .dataframe tbody tr th {\n",
       "        vertical-align: top;\n",
       "    }\n",
       "\n",
       "    .dataframe thead th {\n",
       "        text-align: right;\n",
       "    }\n",
       "</style>\n",
       "<table border=\"1\" class=\"dataframe\">\n",
       "  <thead>\n",
       "    <tr style=\"text-align: right;\">\n",
       "      <th></th>\n",
       "      <th>k</th>\n",
       "      <th>s</th>\n",
       "      <th>cost</th>\n",
       "      <th>file</th>\n",
       "      <th>algorithm</th>\n",
       "    </tr>\n",
       "  </thead>\n",
       "  <tbody>\n",
       "    <tr>\n",
       "      <th>0</th>\n",
       "      <td>1</td>\n",
       "      <td>1</td>\n",
       "      <td>6.492717e+07</td>\n",
       "      <td>inputs/131_100.in</td>\n",
       "      <td>tsp</td>\n",
       "    </tr>\n",
       "    <tr>\n",
       "      <th>1</th>\n",
       "      <td>7</td>\n",
       "      <td>7</td>\n",
       "      <td>7.400000e+01</td>\n",
       "      <td>inputs/70_100.in</td>\n",
       "      <td>tsp</td>\n",
       "    </tr>\n",
       "    <tr>\n",
       "      <th>2</th>\n",
       "      <td>1</td>\n",
       "      <td>1</td>\n",
       "      <td>9.200000e+01</td>\n",
       "      <td>inputs/286_100.in</td>\n",
       "      <td>tsp</td>\n",
       "    </tr>\n",
       "    <tr>\n",
       "      <th>3</th>\n",
       "      <td>4</td>\n",
       "      <td>4</td>\n",
       "      <td>1.481217e+09</td>\n",
       "      <td>inputs/152_100.in</td>\n",
       "      <td>tsp</td>\n",
       "    </tr>\n",
       "    <tr>\n",
       "      <th>4</th>\n",
       "      <td>12</td>\n",
       "      <td>11</td>\n",
       "      <td>1.195667e+03</td>\n",
       "      <td>inputs/13_100.in</td>\n",
       "      <td>tsp</td>\n",
       "    </tr>\n",
       "  </tbody>\n",
       "</table>\n",
       "</div>"
      ],
      "text/plain": [
       "    k   s          cost               file algorithm\n",
       "0   1   1  6.492717e+07  inputs/131_100.in       tsp\n",
       "1   7   7  7.400000e+01   inputs/70_100.in       tsp\n",
       "2   1   1  9.200000e+01  inputs/286_100.in       tsp\n",
       "3   4   4  1.481217e+09  inputs/152_100.in       tsp\n",
       "4  12  11  1.195667e+03   inputs/13_100.in       tsp"
      ]
     },
     "execution_count": 6,
     "metadata": {},
     "output_type": "execute_result"
    }
   ],
   "source": [
    "tsp_100 = output_data('best_tsp_100.txt', 'tsp')\n",
    "print(tsp_100.shape)\n",
    "tsp_100.head()"
   ]
  },
  {
   "cell_type": "markdown",
   "metadata": {},
   "source": [
    "# Conclusion\n",
    "2-opt does better than Ant Colony on average."
   ]
  },
  {
   "cell_type": "markdown",
   "metadata": {},
   "source": [
    "## Merge *_50.in Inputs"
   ]
  },
  {
   "cell_type": "code",
   "execution_count": 9,
   "metadata": {},
   "outputs": [],
   "source": [
    "import shutil\n",
    "import os\n",
    "\n",
    "def copy_outputs(df, output_dir_old, output_dir_new):\n",
    "    if not os.path.exists(output_dir_new):\n",
    "        os.makedirs(output_dir_new)\n",
    "    for file in df['file'].tolist():\n",
    "        file_code = file.split(\"/\")[1].split('.in')[0]\n",
    "        shutil.copy2(str(output_dir_old) + str(file_code) + '.out', str(output_dir_new))\n",
    "        \n",
    "def merge_best_outputs(ant_file, tsp_file, ant_out_dir, tsp_out_dir, final_out_dir):\n",
    "    if ant_file and tsp_file:\n",
    "        ant_data = output_data(ant_file, 'ant')\n",
    "        tsp_data = output_data(tsp_file, 'tsp')\n",
    "        merged_tsp_ant = pd.merge(ant_data, tsp_data, left_on='file', right_on='file', suffixes=('_ant', '_tsp'))\n",
    "        ant_better = merged_tsp_ant[merged_tsp_ant['cost_ant'] < merged_tsp_ant['cost_tsp']]\n",
    "        tsp_better = merged_tsp_ant[merged_tsp_ant['cost_ant'] >= merged_tsp_ant['cost_tsp']]\n",
    "        copy_outputs(ant_better, ant_out_dir, final_out_dir)\n",
    "        copy_outputs(tsp_better, tsp_out_dir, final_out_dir)\n",
    "    elif tsp_file and not ant_file:\n",
    "        tsp_data = output_data(tsp_file, 'tsp')\n",
    "        copy_outputs(tsp_data, tsp_out_dir, final_out_dir)"
   ]
  },
  {
   "cell_type": "code",
   "execution_count": 10,
   "metadata": {},
   "outputs": [],
   "source": [
    "merge_best_outputs('best_ant_50.txt', 'best_tsp_50.txt', 'outputs_ant_50/', 'outputs_tsp_50/', 'outputs/')"
   ]
  },
  {
   "cell_type": "code",
   "execution_count": null,
   "metadata": {},
   "outputs": [],
   "source": []
  },
  {
   "cell_type": "code",
   "execution_count": null,
   "metadata": {},
   "outputs": [],
   "source": []
  }
 ],
 "metadata": {
  "kernelspec": {
   "display_name": "Python 3",
   "language": "python",
   "name": "python3"
  },
  "language_info": {
   "codemirror_mode": {
    "name": "ipython",
    "version": 3
   },
   "file_extension": ".py",
   "mimetype": "text/x-python",
   "name": "python",
   "nbconvert_exporter": "python",
   "pygments_lexer": "ipython3",
   "version": "3.7.3"
  }
 },
 "nbformat": 4,
 "nbformat_minor": 2
}

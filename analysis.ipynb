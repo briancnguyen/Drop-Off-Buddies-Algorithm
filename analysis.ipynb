{
 "cells": [
  {
   "cell_type": "code",
   "execution_count": 1,
   "metadata": {},
   "outputs": [],
   "source": [
    "import numpy as np\n",
    "import pandas as pd"
   ]
  },
  {
   "cell_type": "markdown",
   "metadata": {},
   "source": [
    "# Helper Functions"
   ]
  },
  {
   "cell_type": "code",
   "execution_count": 2,
   "metadata": {},
   "outputs": [],
   "source": [
    "def output_data(file):\n",
    "    data = pd.read_csv(file, sep=\" \", header=None)\n",
    "    data.columns = [\"k\", \"s\", \"cost\", \"file\", \"algorithm\"]\n",
    "    return data\n",
    "\n",
    "def tsp_compare(graph_size, tsp_iterations):\n",
    "    tsp_costs = {}\n",
    "    for current in tsp_iterations:\n",
    "        current_data = output_data('best_tsp_' + str(graph_size) + '_iter' + str(current)  + '.txt')\n",
    "        for comparison in tsp_iterations:\n",
    "            compare_data = output_data('best_tsp_' + str(graph_size) + '_iter' + str(comparison)  + '.txt')\n",
    "            if current != comparison:\n",
    "                num_same = sum(current_data['cost'] == compare_data['cost'])\n",
    "                if current not in tsp_costs:\n",
    "                    tsp_costs[current] = [num_same]\n",
    "                else:\n",
    "                    tsp_costs[current].append(num_same)\n",
    "    return tsp_costs\n",
    "\n",
    "def compare_tsp_and_ant_50():\n",
    "    tsp_iterations = range(100, 1100, 100)\n",
    "    costs = {}\n",
    "    ant_data = output_data('best_ant_50.txt')\n",
    "    for current in tsp_iterations:\n",
    "        current_data = output_data('best_tsp_50_iter' + str(current)  + '.txt')\n",
    "        num_same = sum(current_data['cost'] == ant_data['cost'])\n",
    "        if current not in costs:\n",
    "            costs[current] = [num_same]\n",
    "        else:\n",
    "            costs[current].append(num_same)\n",
    "    return costs"
   ]
  },
  {
   "cell_type": "markdown",
   "metadata": {},
   "source": [
    "# Comparing Iterations 100 to 1000 for Size 50\n",
    "Surprisingly, there is no difference between each iteration. Costs are exactly the same."
   ]
  },
  {
   "cell_type": "code",
   "execution_count": 3,
   "metadata": {
    "scrolled": true
   },
   "outputs": [
    {
     "data": {
      "text/plain": [
       "{100: [325, 325, 325, 325, 325, 325, 325, 325, 325],\n",
       " 200: [325, 325, 325, 325, 325, 325, 325, 325, 325],\n",
       " 300: [325, 325, 325, 325, 325, 325, 325, 325, 325],\n",
       " 400: [325, 325, 325, 325, 325, 325, 325, 325, 325],\n",
       " 500: [325, 325, 325, 325, 325, 325, 325, 325, 325],\n",
       " 600: [325, 325, 325, 325, 325, 325, 325, 325, 325],\n",
       " 700: [325, 325, 325, 325, 325, 325, 325, 325, 325],\n",
       " 800: [325, 325, 325, 325, 325, 325, 325, 325, 325],\n",
       " 900: [325, 325, 325, 325, 325, 325, 325, 325, 325],\n",
       " 1000: [325, 325, 325, 325, 325, 325, 325, 325, 325]}"
      ]
     },
     "execution_count": 3,
     "metadata": {},
     "output_type": "execute_result"
    }
   ],
   "source": [
    "tsp_compare(50, range(100, 1100, 100))"
   ]
  },
  {
   "cell_type": "code",
   "execution_count": 4,
   "metadata": {},
   "outputs": [
    {
     "data": {
      "text/plain": [
       "{100: [74],\n",
       " 200: [74],\n",
       " 300: [74],\n",
       " 400: [74],\n",
       " 500: [74],\n",
       " 600: [74],\n",
       " 700: [74],\n",
       " 800: [74],\n",
       " 900: [74],\n",
       " 1000: [74]}"
      ]
     },
     "execution_count": 4,
     "metadata": {},
     "output_type": "execute_result"
    }
   ],
   "source": [
    "compare_tsp_and_ant_50()"
   ]
  },
  {
   "cell_type": "markdown",
   "metadata": {},
   "source": [
    "# Comparing Iterations 100 to 1000 for Size 100\n",
    "Surprisingly, there is no difference between each iteration. Costs are exactly the same."
   ]
  },
  {
   "cell_type": "code",
   "execution_count": 5,
   "metadata": {},
   "outputs": [
    {
     "data": {
      "text/plain": [
       "{100: [314, 314, 314, 314, 314, 314, 314, 314, 314],\n",
       " 200: [314, 314, 314, 314, 314, 314, 314, 314, 314],\n",
       " 300: [314, 314, 314, 314, 314, 314, 314, 314, 314],\n",
       " 400: [314, 314, 314, 314, 314, 314, 314, 314, 314],\n",
       " 500: [314, 314, 314, 314, 314, 314, 314, 314, 314],\n",
       " 600: [314, 314, 314, 314, 314, 314, 314, 314, 314],\n",
       " 700: [314, 314, 314, 314, 314, 314, 314, 314, 314],\n",
       " 800: [314, 314, 314, 314, 314, 314, 314, 314, 314],\n",
       " 900: [314, 314, 314, 314, 314, 314, 314, 314, 314],\n",
       " 1000: [314, 314, 314, 314, 314, 314, 314, 314, 314]}"
      ]
     },
     "execution_count": 5,
     "metadata": {},
     "output_type": "execute_result"
    }
   ],
   "source": [
    "tsp_compare(100, range(100, 1100, 100))"
   ]
  },
  {
   "cell_type": "markdown",
   "metadata": {},
   "source": [
    "# Comparing Ant Colony and 2-opt"
   ]
  },
  {
   "cell_type": "code",
   "execution_count": 6,
   "metadata": {
    "scrolled": true
   },
   "outputs": [
    {
     "data": {
      "text/html": [
       "<div>\n",
       "<style scoped>\n",
       "    .dataframe tbody tr th:only-of-type {\n",
       "        vertical-align: middle;\n",
       "    }\n",
       "\n",
       "    .dataframe tbody tr th {\n",
       "        vertical-align: top;\n",
       "    }\n",
       "\n",
       "    .dataframe thead th {\n",
       "        text-align: right;\n",
       "    }\n",
       "</style>\n",
       "<table border=\"1\" class=\"dataframe\">\n",
       "  <thead>\n",
       "    <tr style=\"text-align: right;\">\n",
       "      <th></th>\n",
       "      <th>k</th>\n",
       "      <th>s</th>\n",
       "      <th>cost</th>\n",
       "      <th>file</th>\n",
       "      <th>algorithm</th>\n",
       "    </tr>\n",
       "  </thead>\n",
       "  <tbody>\n",
       "    <tr>\n",
       "      <th>0</th>\n",
       "      <td>24</td>\n",
       "      <td>19</td>\n",
       "      <td>2.106994e+02</td>\n",
       "      <td>inputs/85_50.in</td>\n",
       "      <td>ant</td>\n",
       "    </tr>\n",
       "    <tr>\n",
       "      <th>1</th>\n",
       "      <td>26</td>\n",
       "      <td>19</td>\n",
       "      <td>3.769865e+03</td>\n",
       "      <td>inputs/192_50.in</td>\n",
       "      <td>ant</td>\n",
       "    </tr>\n",
       "    <tr>\n",
       "      <th>2</th>\n",
       "      <td>49</td>\n",
       "      <td>19</td>\n",
       "      <td>4.333333e+00</td>\n",
       "      <td>inputs/293_50.in</td>\n",
       "      <td>ant</td>\n",
       "    </tr>\n",
       "    <tr>\n",
       "      <th>3</th>\n",
       "      <td>24</td>\n",
       "      <td>19</td>\n",
       "      <td>7.858472e+01</td>\n",
       "      <td>inputs/78_50.in</td>\n",
       "      <td>ant</td>\n",
       "    </tr>\n",
       "    <tr>\n",
       "      <th>4</th>\n",
       "      <td>25</td>\n",
       "      <td>19</td>\n",
       "      <td>1.208264e+09</td>\n",
       "      <td>inputs/152_50.in</td>\n",
       "      <td>ant</td>\n",
       "    </tr>\n",
       "  </tbody>\n",
       "</table>\n",
       "</div>"
      ],
      "text/plain": [
       "    k   s          cost              file algorithm\n",
       "0  24  19  2.106994e+02   inputs/85_50.in       ant\n",
       "1  26  19  3.769865e+03  inputs/192_50.in       ant\n",
       "2  49  19  4.333333e+00  inputs/293_50.in       ant\n",
       "3  24  19  7.858472e+01   inputs/78_50.in       ant\n",
       "4  25  19  1.208264e+09  inputs/152_50.in       ant"
      ]
     },
     "execution_count": 6,
     "metadata": {},
     "output_type": "execute_result"
    }
   ],
   "source": [
    "ant_data = output_data('best_ant_50.txt')\n",
    "ant_data['algorithm'] = 'ant'\n",
    "ant_data.head()"
   ]
  },
  {
   "cell_type": "code",
   "execution_count": 7,
   "metadata": {},
   "outputs": [
    {
     "data": {
      "text/html": [
       "<div>\n",
       "<style scoped>\n",
       "    .dataframe tbody tr th:only-of-type {\n",
       "        vertical-align: middle;\n",
       "    }\n",
       "\n",
       "    .dataframe tbody tr th {\n",
       "        vertical-align: top;\n",
       "    }\n",
       "\n",
       "    .dataframe thead th {\n",
       "        text-align: right;\n",
       "    }\n",
       "</style>\n",
       "<table border=\"1\" class=\"dataframe\">\n",
       "  <thead>\n",
       "    <tr style=\"text-align: right;\">\n",
       "      <th></th>\n",
       "      <th>k</th>\n",
       "      <th>s</th>\n",
       "      <th>cost</th>\n",
       "      <th>file</th>\n",
       "      <th>algorithm</th>\n",
       "    </tr>\n",
       "  </thead>\n",
       "  <tbody>\n",
       "    <tr>\n",
       "      <th>0</th>\n",
       "      <td>1</td>\n",
       "      <td>1</td>\n",
       "      <td>2.019085e+02</td>\n",
       "      <td>inputs/85_50.in</td>\n",
       "      <td>tsp</td>\n",
       "    </tr>\n",
       "    <tr>\n",
       "      <th>1</th>\n",
       "      <td>1</td>\n",
       "      <td>1</td>\n",
       "      <td>3.770212e+03</td>\n",
       "      <td>inputs/192_50.in</td>\n",
       "      <td>tsp</td>\n",
       "    </tr>\n",
       "    <tr>\n",
       "      <th>2</th>\n",
       "      <td>1</td>\n",
       "      <td>1</td>\n",
       "      <td>5.333333e+00</td>\n",
       "      <td>inputs/293_50.in</td>\n",
       "      <td>tsp</td>\n",
       "    </tr>\n",
       "    <tr>\n",
       "      <th>3</th>\n",
       "      <td>1</td>\n",
       "      <td>1</td>\n",
       "      <td>7.277832e+01</td>\n",
       "      <td>inputs/78_50.in</td>\n",
       "      <td>tsp</td>\n",
       "    </tr>\n",
       "    <tr>\n",
       "      <th>4</th>\n",
       "      <td>1</td>\n",
       "      <td>1</td>\n",
       "      <td>1.159118e+09</td>\n",
       "      <td>inputs/152_50.in</td>\n",
       "      <td>tsp</td>\n",
       "    </tr>\n",
       "  </tbody>\n",
       "</table>\n",
       "</div>"
      ],
      "text/plain": [
       "   k  s          cost              file algorithm\n",
       "0  1  1  2.019085e+02   inputs/85_50.in       tsp\n",
       "1  1  1  3.770212e+03  inputs/192_50.in       tsp\n",
       "2  1  1  5.333333e+00  inputs/293_50.in       tsp\n",
       "3  1  1  7.277832e+01   inputs/78_50.in       tsp\n",
       "4  1  1  1.159118e+09  inputs/152_50.in       tsp"
      ]
     },
     "execution_count": 7,
     "metadata": {},
     "output_type": "execute_result"
    }
   ],
   "source": [
    "tsp_data = output_data('best_tsp_50_iter100.txt')\n",
    "tsp_data['algorithm'] = 'tsp'\n",
    "tsp_data.head()"
   ]
  },
  {
   "cell_type": "code",
   "execution_count": 8,
   "metadata": {},
   "outputs": [
    {
     "data": {
      "text/html": [
       "<div>\n",
       "<style scoped>\n",
       "    .dataframe tbody tr th:only-of-type {\n",
       "        vertical-align: middle;\n",
       "    }\n",
       "\n",
       "    .dataframe tbody tr th {\n",
       "        vertical-align: top;\n",
       "    }\n",
       "\n",
       "    .dataframe thead th {\n",
       "        text-align: right;\n",
       "    }\n",
       "</style>\n",
       "<table border=\"1\" class=\"dataframe\">\n",
       "  <thead>\n",
       "    <tr style=\"text-align: right;\">\n",
       "      <th></th>\n",
       "      <th>k_ant</th>\n",
       "      <th>s_ant</th>\n",
       "      <th>cost_ant</th>\n",
       "      <th>file</th>\n",
       "      <th>algorithm_ant</th>\n",
       "      <th>k_tsp</th>\n",
       "      <th>s_tsp</th>\n",
       "      <th>cost_tsp</th>\n",
       "      <th>algorithm_tsp</th>\n",
       "    </tr>\n",
       "  </thead>\n",
       "  <tbody>\n",
       "    <tr>\n",
       "      <th>0</th>\n",
       "      <td>24</td>\n",
       "      <td>19</td>\n",
       "      <td>2.106994e+02</td>\n",
       "      <td>inputs/85_50.in</td>\n",
       "      <td>ant</td>\n",
       "      <td>1</td>\n",
       "      <td>1</td>\n",
       "      <td>2.019085e+02</td>\n",
       "      <td>tsp</td>\n",
       "    </tr>\n",
       "    <tr>\n",
       "      <th>1</th>\n",
       "      <td>26</td>\n",
       "      <td>19</td>\n",
       "      <td>3.769865e+03</td>\n",
       "      <td>inputs/192_50.in</td>\n",
       "      <td>ant</td>\n",
       "      <td>1</td>\n",
       "      <td>1</td>\n",
       "      <td>3.770212e+03</td>\n",
       "      <td>tsp</td>\n",
       "    </tr>\n",
       "    <tr>\n",
       "      <th>2</th>\n",
       "      <td>49</td>\n",
       "      <td>19</td>\n",
       "      <td>4.333333e+00</td>\n",
       "      <td>inputs/293_50.in</td>\n",
       "      <td>ant</td>\n",
       "      <td>1</td>\n",
       "      <td>1</td>\n",
       "      <td>5.333333e+00</td>\n",
       "      <td>tsp</td>\n",
       "    </tr>\n",
       "    <tr>\n",
       "      <th>3</th>\n",
       "      <td>24</td>\n",
       "      <td>19</td>\n",
       "      <td>7.858472e+01</td>\n",
       "      <td>inputs/78_50.in</td>\n",
       "      <td>ant</td>\n",
       "      <td>1</td>\n",
       "      <td>1</td>\n",
       "      <td>7.277832e+01</td>\n",
       "      <td>tsp</td>\n",
       "    </tr>\n",
       "    <tr>\n",
       "      <th>4</th>\n",
       "      <td>25</td>\n",
       "      <td>19</td>\n",
       "      <td>1.208264e+09</td>\n",
       "      <td>inputs/152_50.in</td>\n",
       "      <td>ant</td>\n",
       "      <td>1</td>\n",
       "      <td>1</td>\n",
       "      <td>1.159118e+09</td>\n",
       "      <td>tsp</td>\n",
       "    </tr>\n",
       "  </tbody>\n",
       "</table>\n",
       "</div>"
      ],
      "text/plain": [
       "   k_ant  s_ant      cost_ant              file algorithm_ant  k_tsp  s_tsp  \\\n",
       "0     24     19  2.106994e+02   inputs/85_50.in           ant      1      1   \n",
       "1     26     19  3.769865e+03  inputs/192_50.in           ant      1      1   \n",
       "2     49     19  4.333333e+00  inputs/293_50.in           ant      1      1   \n",
       "3     24     19  7.858472e+01   inputs/78_50.in           ant      1      1   \n",
       "4     25     19  1.208264e+09  inputs/152_50.in           ant      1      1   \n",
       "\n",
       "       cost_tsp algorithm_tsp  \n",
       "0  2.019085e+02           tsp  \n",
       "1  3.770212e+03           tsp  \n",
       "2  5.333333e+00           tsp  \n",
       "3  7.277832e+01           tsp  \n",
       "4  1.159118e+09           tsp  "
      ]
     },
     "execution_count": 8,
     "metadata": {},
     "output_type": "execute_result"
    }
   ],
   "source": [
    "merged_tsp_ant = pd.merge(ant_data, tsp_data, left_on='file', right_on='file', suffixes=('_ant', '_tsp'))\n",
    "merged_tsp_ant.head()"
   ]
  },
  {
   "cell_type": "code",
   "execution_count": 9,
   "metadata": {},
   "outputs": [
    {
     "name": "stdout",
     "output_type": "stream",
     "text": [
      "(58, 9)\n"
     ]
    },
    {
     "data": {
      "text/html": [
       "<div>\n",
       "<style scoped>\n",
       "    .dataframe tbody tr th:only-of-type {\n",
       "        vertical-align: middle;\n",
       "    }\n",
       "\n",
       "    .dataframe tbody tr th {\n",
       "        vertical-align: top;\n",
       "    }\n",
       "\n",
       "    .dataframe thead th {\n",
       "        text-align: right;\n",
       "    }\n",
       "</style>\n",
       "<table border=\"1\" class=\"dataframe\">\n",
       "  <thead>\n",
       "    <tr style=\"text-align: right;\">\n",
       "      <th></th>\n",
       "      <th>k_ant</th>\n",
       "      <th>s_ant</th>\n",
       "      <th>cost_ant</th>\n",
       "      <th>file</th>\n",
       "      <th>algorithm_ant</th>\n",
       "      <th>k_tsp</th>\n",
       "      <th>s_tsp</th>\n",
       "      <th>cost_tsp</th>\n",
       "      <th>algorithm_tsp</th>\n",
       "    </tr>\n",
       "  </thead>\n",
       "  <tbody>\n",
       "    <tr>\n",
       "      <th>1</th>\n",
       "      <td>26</td>\n",
       "      <td>19</td>\n",
       "      <td>3769.865333</td>\n",
       "      <td>inputs/192_50.in</td>\n",
       "      <td>ant</td>\n",
       "      <td>1</td>\n",
       "      <td>1</td>\n",
       "      <td>3770.211560</td>\n",
       "      <td>tsp</td>\n",
       "    </tr>\n",
       "    <tr>\n",
       "      <th>2</th>\n",
       "      <td>49</td>\n",
       "      <td>19</td>\n",
       "      <td>4.333333</td>\n",
       "      <td>inputs/293_50.in</td>\n",
       "      <td>ant</td>\n",
       "      <td>1</td>\n",
       "      <td>1</td>\n",
       "      <td>5.333333</td>\n",
       "      <td>tsp</td>\n",
       "    </tr>\n",
       "    <tr>\n",
       "      <th>8</th>\n",
       "      <td>22</td>\n",
       "      <td>19</td>\n",
       "      <td>203.125650</td>\n",
       "      <td>inputs/216_50.in</td>\n",
       "      <td>ant</td>\n",
       "      <td>1</td>\n",
       "      <td>1</td>\n",
       "      <td>209.623167</td>\n",
       "      <td>tsp</td>\n",
       "    </tr>\n",
       "    <tr>\n",
       "      <th>10</th>\n",
       "      <td>25</td>\n",
       "      <td>19</td>\n",
       "      <td>32.000000</td>\n",
       "      <td>inputs/232_50.in</td>\n",
       "      <td>ant</td>\n",
       "      <td>10</td>\n",
       "      <td>7</td>\n",
       "      <td>32.333333</td>\n",
       "      <td>tsp</td>\n",
       "    </tr>\n",
       "    <tr>\n",
       "      <th>16</th>\n",
       "      <td>28</td>\n",
       "      <td>19</td>\n",
       "      <td>100401.333333</td>\n",
       "      <td>inputs/248_50.in</td>\n",
       "      <td>ant</td>\n",
       "      <td>1</td>\n",
       "      <td>1</td>\n",
       "      <td>101120.666667</td>\n",
       "      <td>tsp</td>\n",
       "    </tr>\n",
       "  </tbody>\n",
       "</table>\n",
       "</div>"
      ],
      "text/plain": [
       "    k_ant  s_ant       cost_ant              file algorithm_ant  k_tsp  s_tsp  \\\n",
       "1      26     19    3769.865333  inputs/192_50.in           ant      1      1   \n",
       "2      49     19       4.333333  inputs/293_50.in           ant      1      1   \n",
       "8      22     19     203.125650  inputs/216_50.in           ant      1      1   \n",
       "10     25     19      32.000000  inputs/232_50.in           ant     10      7   \n",
       "16     28     19  100401.333333  inputs/248_50.in           ant      1      1   \n",
       "\n",
       "         cost_tsp algorithm_tsp  \n",
       "1     3770.211560           tsp  \n",
       "2        5.333333           tsp  \n",
       "8      209.623167           tsp  \n",
       "10      32.333333           tsp  \n",
       "16  101120.666667           tsp  "
      ]
     },
     "execution_count": 9,
     "metadata": {},
     "output_type": "execute_result"
    }
   ],
   "source": [
    "ant_better = merged_tsp_ant[merged_tsp_ant['cost_ant'] < merged_tsp_ant['cost_tsp']]\n",
    "print(ant_better.shape)\n",
    "ant_better.head()"
   ]
  },
  {
   "cell_type": "code",
   "execution_count": 10,
   "metadata": {},
   "outputs": [
    {
     "name": "stdout",
     "output_type": "stream",
     "text": [
      "(267, 9)\n"
     ]
    },
    {
     "data": {
      "text/html": [
       "<div>\n",
       "<style scoped>\n",
       "    .dataframe tbody tr th:only-of-type {\n",
       "        vertical-align: middle;\n",
       "    }\n",
       "\n",
       "    .dataframe tbody tr th {\n",
       "        vertical-align: top;\n",
       "    }\n",
       "\n",
       "    .dataframe thead th {\n",
       "        text-align: right;\n",
       "    }\n",
       "</style>\n",
       "<table border=\"1\" class=\"dataframe\">\n",
       "  <thead>\n",
       "    <tr style=\"text-align: right;\">\n",
       "      <th></th>\n",
       "      <th>k_ant</th>\n",
       "      <th>s_ant</th>\n",
       "      <th>cost_ant</th>\n",
       "      <th>file</th>\n",
       "      <th>algorithm_ant</th>\n",
       "      <th>k_tsp</th>\n",
       "      <th>s_tsp</th>\n",
       "      <th>cost_tsp</th>\n",
       "      <th>algorithm_tsp</th>\n",
       "    </tr>\n",
       "  </thead>\n",
       "  <tbody>\n",
       "    <tr>\n",
       "      <th>0</th>\n",
       "      <td>24</td>\n",
       "      <td>19</td>\n",
       "      <td>2.106994e+02</td>\n",
       "      <td>inputs/85_50.in</td>\n",
       "      <td>ant</td>\n",
       "      <td>1</td>\n",
       "      <td>1</td>\n",
       "      <td>2.019085e+02</td>\n",
       "      <td>tsp</td>\n",
       "    </tr>\n",
       "    <tr>\n",
       "      <th>3</th>\n",
       "      <td>24</td>\n",
       "      <td>19</td>\n",
       "      <td>7.858472e+01</td>\n",
       "      <td>inputs/78_50.in</td>\n",
       "      <td>ant</td>\n",
       "      <td>1</td>\n",
       "      <td>1</td>\n",
       "      <td>7.277832e+01</td>\n",
       "      <td>tsp</td>\n",
       "    </tr>\n",
       "    <tr>\n",
       "      <th>4</th>\n",
       "      <td>25</td>\n",
       "      <td>19</td>\n",
       "      <td>1.208264e+09</td>\n",
       "      <td>inputs/152_50.in</td>\n",
       "      <td>ant</td>\n",
       "      <td>1</td>\n",
       "      <td>1</td>\n",
       "      <td>1.159118e+09</td>\n",
       "      <td>tsp</td>\n",
       "    </tr>\n",
       "    <tr>\n",
       "      <th>5</th>\n",
       "      <td>21</td>\n",
       "      <td>19</td>\n",
       "      <td>2.080000e+02</td>\n",
       "      <td>inputs/117_50.in</td>\n",
       "      <td>ant</td>\n",
       "      <td>1</td>\n",
       "      <td>1</td>\n",
       "      <td>2.080000e+02</td>\n",
       "      <td>tsp</td>\n",
       "    </tr>\n",
       "    <tr>\n",
       "      <th>6</th>\n",
       "      <td>27</td>\n",
       "      <td>19</td>\n",
       "      <td>4.544703e+02</td>\n",
       "      <td>inputs/45_50.in</td>\n",
       "      <td>ant</td>\n",
       "      <td>11</td>\n",
       "      <td>7</td>\n",
       "      <td>4.493073e+02</td>\n",
       "      <td>tsp</td>\n",
       "    </tr>\n",
       "  </tbody>\n",
       "</table>\n",
       "</div>"
      ],
      "text/plain": [
       "   k_ant  s_ant      cost_ant              file algorithm_ant  k_tsp  s_tsp  \\\n",
       "0     24     19  2.106994e+02   inputs/85_50.in           ant      1      1   \n",
       "3     24     19  7.858472e+01   inputs/78_50.in           ant      1      1   \n",
       "4     25     19  1.208264e+09  inputs/152_50.in           ant      1      1   \n",
       "5     21     19  2.080000e+02  inputs/117_50.in           ant      1      1   \n",
       "6     27     19  4.544703e+02   inputs/45_50.in           ant     11      7   \n",
       "\n",
       "       cost_tsp algorithm_tsp  \n",
       "0  2.019085e+02           tsp  \n",
       "3  7.277832e+01           tsp  \n",
       "4  1.159118e+09           tsp  \n",
       "5  2.080000e+02           tsp  \n",
       "6  4.493073e+02           tsp  "
      ]
     },
     "execution_count": 10,
     "metadata": {},
     "output_type": "execute_result"
    }
   ],
   "source": [
    "tsp_better = merged_tsp_ant[merged_tsp_ant['cost_ant'] >= merged_tsp_ant['cost_tsp']]\n",
    "print(tsp_better.shape)\n",
    "tsp_better.head()"
   ]
  },
  {
   "cell_type": "markdown",
   "metadata": {},
   "source": [
    "# Conclusion\n",
    "2-opt does better than Ant Colony on average."
   ]
  },
  {
   "cell_type": "code",
   "execution_count": null,
   "metadata": {},
   "outputs": [],
   "source": []
  }
 ],
 "metadata": {
  "kernelspec": {
   "display_name": "Python 3",
   "language": "python",
   "name": "python3"
  },
  "language_info": {
   "codemirror_mode": {
    "name": "ipython",
    "version": 3
   },
   "file_extension": ".py",
   "mimetype": "text/x-python",
   "name": "python",
   "nbconvert_exporter": "python",
   "pygments_lexer": "ipython3",
   "version": "3.7.3"
  }
 },
 "nbformat": 4,
 "nbformat_minor": 2
}

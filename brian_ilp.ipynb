{
 "cells": [
  {
   "cell_type": "markdown",
   "metadata": {},
   "source": [
    "# Libraries and Tools"
   ]
  },
  {
   "cell_type": "code",
   "execution_count": 6,
   "metadata": {},
   "outputs": [],
   "source": [
    "from brian_graph import Graph\n",
    "from solver import *\n",
    "import matplotlib.pyplot as plt\n",
    "import numpy as np\n",
    "import pandas as pd"
   ]
  },
  {
   "cell_type": "code",
   "execution_count": 7,
   "metadata": {
    "scrolled": false
   },
   "outputs": [
    {
     "name": "stdout",
     "output_type": "stream",
     "text": [
      "Successful instance of Graph class\n"
     ]
    }
   ],
   "source": [
    "#graph = Graph(\"inputs/84_50.in\")\n",
    "graph = Graph(\"inputs/practice.in\") # Homework example\n",
    "#graph = Graph(\"inputs/264_50.in\") # Pauls Example\n",
    "#graph = Graph(\"inputs/basic.in\") # Basic Example"
   ]
  },
  {
   "cell_type": "code",
   "execution_count": 8,
   "metadata": {},
   "outputs": [
    {
     "data": {
      "image/png": "[encoded data removed]",
      "text/plain": [
       "<Figure size 432x288 with 1 Axes>"
      ]
     },
     "metadata": {},
     "output_type": "display_data"
    }
   ],
   "source": [
    "nx.draw_networkx(graph.G)"
   ]
  },
  {
   "cell_type": "markdown",
   "metadata": {},
   "source": [
    "# Integer Linear Programming"
   ]
  },
  {
   "cell_type": "code",
   "execution_count": 9,
   "metadata": {
    "scrolled": true
   },
   "outputs": [
    {
     "name": "stdout",
     "output_type": "stream",
     "text": [
      "Academic license - for non-commercial use only\n",
      "Optimize a model with 22 rows, 91 columns and 170 nonzeros\n",
      "Model has 210 quadratic objective terms\n",
      "Variable types: 0 continuous, 91 integer (91 binary)\n",
      "Coefficient statistics:\n",
      "  Matrix range     [1e+00, 1e+00]\n",
      "  Objective range  [1e+00, 2e+00]\n",
      "  QObjective range [2e+00, 4e+00]\n",
      "  Bounds range     [1e+00, 1e+00]\n",
      "  RHS range        [1e+00, 1e+00]\n",
      "Found heuristic solution: objective 13.0000000\n",
      "Presolve removed 7 rows and 35 columns\n",
      "Presolve time: 0.00s\n",
      "Presolved: 141 rows, 182 columns, 490 nonzeros\n",
      "Variable types: 0 continuous, 182 integer (182 binary)\n",
      "\n",
      "Root relaxation: objective 3.000000e+00, 23 iterations, 0.00 seconds\n",
      "\n",
      "    Nodes    |    Current Node    |     Objective Bounds      |     Work\n",
      " Expl Unexpl |  Obj  Depth IntInf | Incumbent    BestBd   Gap | It/Node Time\n",
      "\n",
      "     0     0    3.00000    0    8   13.00000    3.00000  76.9%     -    0s\n",
      "H    0     0                       9.0000000    3.00000  66.7%     -    0s\n",
      "     0     0    3.00000    0   12    9.00000    3.00000  66.7%     -    0s\n",
      "H    0     0                       8.0000000    3.00000  62.5%     -    0s\n",
      "H    0     0                       7.0000000    3.00000  57.1%     -    0s\n",
      "     0     0    3.00000    0    8    7.00000    3.00000  57.1%     -    0s\n",
      "     0     0    3.00000    0    8    7.00000    3.00000  57.1%     -    0s\n",
      "     0     0    3.00000    0    8    7.00000    3.00000  57.1%     -    0s\n",
      "     0     2    3.00000    0    8    7.00000    3.00000  57.1%     -    0s\n",
      "H    3     2                       5.0000000    3.50000  30.0%  10.0    0s\n",
      "\n",
      "Cutting planes:\n",
      "  Zero half: 5\n",
      "\n",
      "Explored 7 nodes (113 simplex iterations) in 0.28 seconds\n",
      "Thread count was 4 (of 4 available processors)\n",
      "\n",
      "Solution count 5: 5 7 8 ... 13\n",
      "\n",
      "Optimal solution found (tolerance 1.00e-04)\n",
      "Best objective 5.000000000000e+00, best bound 5.000000000000e+00, gap 0.0000%\n"
     ]
    }
   ],
   "source": [
    "graph.ILP()"
   ]
  },
  {
   "cell_type": "code",
   "execution_count": 10,
   "metadata": {},
   "outputs": [
    {
     "data": {
      "text/plain": [
       "([0, 3, 0], 1, {3: [2, 3, 4, 5]})"
      ]
     },
     "execution_count": 10,
     "metadata": {},
     "output_type": "execute_result"
    }
   ],
   "source": [
    "# Output format\n",
    "\"\"\"\n",
    "Drop-Off Locations: Soda Dwinelle Campanile Barrows Soda\n",
    "Number of Distinct Locations Dropped Off: 3\n",
    "Soda Cory\n",
    "Dwinelle Wheeler RSF\n",
    "Campanile Campanile\n",
    "\"\"\"\n",
    "def car_cycle(graph, arrangement_matrix):\n",
    "    def drop_off_compression(cycle):\n",
    "        locations = []\n",
    "        previous = None\n",
    "        for location in cycle:\n",
    "            if location != previous:\n",
    "                locations.append(location)\n",
    "            previous = location\n",
    "        return locations\n",
    "    drop_offs = []\n",
    "    for c in range(arrangement_matrix.shape[1]):\n",
    "        drop_off_vertex = np.where(arrangement_matrix[:, c] == 1)[0][0]\n",
    "#         location = graph.vertex_to_location[drop_off_vertex]\n",
    "        drop_offs.append(drop_off_vertex)\n",
    "    return drop_off_compression(drop_offs)\n",
    "\n",
    "def num_distinct_drop_offs(cycle):\n",
    "    return len(set(cycle[1:-1]))\n",
    "\n",
    "def homes_at_drop_offs(graph, walking_matrix):\n",
    "    homes_set = set(graph.list_of_houses)\n",
    "    TAs, D = [], {}\n",
    "    for i in range(len(graph.list_of_locations)):\n",
    "        if graph.list_of_locations[i] in homes_set:\n",
    "            TAs.append((i, graph.list_of_locations[i]))\n",
    "    for index, home in TAs:\n",
    "        drop_off_vertex = np.where(walking_matrix[:, index] == 1)[0][0]\n",
    "        if drop_off_vertex not in D:\n",
    "            D[drop_off_vertex] = [index,]\n",
    "        else:\n",
    "            D.get(drop_off_vertex).append(index)\n",
    "    return D\n",
    "\n",
    "cycle = car_cycle(graph, graph.optimal_A())\n",
    "num = num_distinct_drop_offs(cycle)\n",
    "D = homes_at_drop_offs(graph, graph.optimal_W())\n",
    "cycle, num, D"
   ]
  },
  {
   "cell_type": "code",
   "execution_count": 11,
   "metadata": {},
   "outputs": [],
   "source": [
    "#convertToFile(cycle, D, \"outputs/practice.out\", graph.list_of_locations)"
   ]
  },
  {
   "cell_type": "code",
   "execution_count": 12,
   "metadata": {},
   "outputs": [
    {
     "data": {
      "text/plain": [
       "['Soda', 'Dwinelle', 'Wheeler', 'Campanile', 'Cory', 'RSF', 'Barrows']"
      ]
     },
     "execution_count": 12,
     "metadata": {},
     "output_type": "execute_result"
    }
   ],
   "source": [
    "graph.list_of_locations"
   ]
  },
  {
   "cell_type": "code",
   "execution_count": null,
   "metadata": {},
   "outputs": [],
   "source": []
  }
 ],
 "metadata": {
  "kernelspec": {
   "display_name": "Python 3",
   "language": "python",
   "name": "python3"
  },
  "language_info": {
   "codemirror_mode": {
    "name": "ipython",
    "version": 3
   },
   "file_extension": ".py",
   "mimetype": "text/x-python",
   "name": "python",
   "nbconvert_exporter": "python",
   "pygments_lexer": "ipython3",
   "version": "3.7.3"
  }
 },
 "nbformat": 4,
 "nbformat_minor": 2
}

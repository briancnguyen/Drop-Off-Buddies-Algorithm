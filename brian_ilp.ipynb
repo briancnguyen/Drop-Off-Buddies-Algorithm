{
 "cells": [
  {
   "cell_type": "markdown",
   "metadata": {},
   "source": [
    "# Libraries and Tools"
   ]
  },
  {
   "cell_type": "code",
   "execution_count": 1,
   "metadata": {},
   "outputs": [],
   "source": [
    "from utils import *\n",
    "from student_utils import *\n",
    "import gurobipy as grb\n",
    "import networkx as nx\n",
    "import matplotlib.pyplot as plt\n",
    "import numpy as np\n",
    "import pandas as pd"
   ]
  },
  {
   "cell_type": "markdown",
   "metadata": {},
   "source": [
    "# Graph Class"
   ]
  },
  {
   "cell_type": "code",
   "execution_count": 2,
   "metadata": {},
   "outputs": [],
   "source": [
    "\"\"\"\n",
    "A class that performs data preprocessing to gather important data and to provide useful functions\n",
    "\"\"\"\n",
    "class Graph:\n",
    "    def __init__(self, input_file):\n",
    "        parsed_data = data_parser(read_file(input_file))\n",
    "        self.data = {}\n",
    "        self.input_file = input_file\n",
    "        self.number_of_locations = parsed_data[0] \n",
    "        self.number_of_houses = parsed_data[1] \n",
    "        self.list_of_locations = parsed_data[2]  \n",
    "        self.list_of_houses = parsed_data[3] \n",
    "        self.starting_location = parsed_data[4] \n",
    "        self.adjacency_matrix = parsed_data[5] \n",
    "        self.G, message = adjacency_matrix_to_graph(self.adjacency_matrix)\n",
    "        if message:\n",
    "            print(message)\n",
    "        else:\n",
    "            print(\"Successful creation of Graph instance\")\n",
    "        \n",
    "    \"\"\"\n",
    "    Returns a NumPy matrix of shortest path distances between every pair of nodes using the Floyd-Warshall algorithm. \n",
    "    If there is no path between to nodes the corresponding matrix entry will be Inf.\n",
    "    \"\"\"\n",
    "    def get_fw_matrix(self):\n",
    "        return nx.floyd_warshall_numpy(self.G)"
   ]
  },
  {
   "cell_type": "code",
   "execution_count": 3,
   "metadata": {
    "scrolled": false
   },
   "outputs": [
    {
     "name": "stdout",
     "output_type": "stream",
     "text": [
      "Successful creation of Graph instance\n"
     ]
    }
   ],
   "source": [
    "graph = Graph(\"inputs/practice.in\")"
   ]
  },
  {
   "cell_type": "code",
   "execution_count": 4,
   "metadata": {},
   "outputs": [
    {
     "data": {
      "image/png": "[encoded data removed]",
      "text/plain": [
       "<Figure size 432x288 with 1 Axes>"
      ]
     },
     "metadata": {},
     "output_type": "display_data"
    }
   ],
   "source": [
    "nx.draw_networkx(graph.G)"
   ]
  },
  {
   "cell_type": "markdown",
   "metadata": {},
   "source": [
    "# Integer Linear Programming"
   ]
  },
  {
   "cell_type": "code",
   "execution_count": 5,
   "metadata": {},
   "outputs": [
    {
     "name": "stdout",
     "output_type": "stream",
     "text": [
      "Academic license - for non-commercial use only\n"
     ]
    }
   ],
   "source": [
    "model = grb.Model()"
   ]
  },
  {
   "cell_type": "code",
   "execution_count": 6,
   "metadata": {},
   "outputs": [],
   "source": [
    "\"\"\"\n",
    "Arrangement of Drop-Offs Matrix\n",
    "\"\"\"\n",
    "ARRANGEMENTS = []\n",
    "for r in range(graph.number_of_locations):\n",
    "    ROW = []\n",
    "    for c in range(graph.number_of_houses + 2):\n",
    "        matrix_element_name = \"A_\" + str(r) + \"_\" + str(c)\n",
    "        ROW.append(model.addVar(vtype=grb.GRB.BINARY, name=matrix_element_name))\n",
    "        model.update()\n",
    "    ARRANGEMENTS.append(ROW)\n",
    "ARRANGEMENTS = np.array(ARRANGEMENTS)\n",
    "\n",
    "\"\"\"\n",
    "Arrangement of Drop-Offs Constraints\n",
    "\"\"\"\n",
    "# Get the index number of where Soda is\n",
    "soda = graph.list_of_locations.index(graph.starting_location)\n",
    "# Check that we start at Soda\n",
    "model.addConstr(ARRANGEMENTS[soda][0] == 1)\n",
    "# Check that we end at Soda\n",
    "model.addConstr(ARRANGEMENTS[soda][graph.number_of_houses + 1] == 1)\n",
    "# Check that each column of ARRANGEMENTS sums up to 1\n",
    "for c in range(len(ARRANGEMENTS[0])):\n",
    "    model.addConstr(grb.quicksum(ARRANGEMENTS[:, c]) == 1)"
   ]
  },
  {
   "cell_type": "code",
   "execution_count": 9,
   "metadata": {},
   "outputs": [],
   "source": [
    "\"\"\"\n",
    "TA Walking Matrix\n",
    "\"\"\"\n",
    "WALKING = []\n",
    "for r in range(graph.number_of_locations):\n",
    "    ROW = []\n",
    "    for c in range(graph.number_of_locations):\n",
    "        matrix_element_name = \"W_\" + str(r) + \"_\" + str(c)\n",
    "        ROW.append(model.addVar(vtype=grb.GRB.BINARY, name=matrix_element_name))\n",
    "        model.update()\n",
    "    WALKING.append(ROW)\n",
    "WALKING = np.array(WALKING)"
   ]
  },
  {
   "cell_type": "code",
   "execution_count": 11,
   "metadata": {},
   "outputs": [],
   "source": [
    "\"\"\"\n",
    "TA Walking Constraints\n",
    "\"\"\"\n",
    "H = (np.array(convert_locations_to_indices(graph.list_of_locations, graph.list_of_houses)) != None).astype(int)\n",
    "\n",
    "# Check that each column i of WALKING sums up to H[i]\n",
    "for i in range(len(WALKING[0])):\n",
    "    model.addConstr(grb.quicksum(WALKING[:, i]) == H[i])"
   ]
  },
  {
   "cell_type": "code",
   "execution_count": 12,
   "metadata": {},
   "outputs": [],
   "source": [
    "\"\"\"\n",
    "Driving Cost Function\n",
    "\"\"\"\n",
    "DISTANCES = graph.get_fw_matrix()\n",
    "driving_cost_function = []\n",
    "for c in range(graph.number_of_houses + 1):\n",
    "    summation = []\n",
    "    for i in range(graph.number_of_locations):\n",
    "        for j in range(graph.number_of_locations):\n",
    "            summation.append(\n",
    "                grb.QuadExpr(ARRANGEMENTS[i][c] * DISTANCES.item((i, j)) * ARRANGEMENTS[j][c + 1])\n",
    "            )\n",
    "            model.update()\n",
    "    driving_cost_function.append(grb.quicksum(summation))\n",
    "    \n",
    "\"\"\"\n",
    "Walking Cost Function\n",
    "\"\"\"\n",
    "walking_cost_function = []\n",
    "for row in range(graph.number_of_locations):\n",
    "    for col in range(graph.number_of_locations):\n",
    "        walking_cost_function.append(grb.LinExpr(WALKING[row][col] * DISTANCES.item((row, col))))\n",
    "        model.update()\n",
    "        \n",
    "\"\"\"\n",
    "Set Objective Function\n",
    "\"\"\"\n",
    "cost_function = driving_cost_function + walking_cost_function\n",
    "model.setObjective(grb.quicksum(cost_function), grb.GRB.MINIMIZE)\n",
    "\n",
    "\"\"\"\n",
    "Minimize Objective Function\n",
    "\"\"\"\n",
    "model.optimize()"
   ]
  },
  {
   "cell_type": "code",
   "execution_count": null,
   "metadata": {},
   "outputs": [],
   "source": [
    "A = []\n",
    "for v in model.getVars():\n",
    "    if v.VarName[0] == 'A':\n",
    "        A.append(v.x)\n",
    "\n",
    "A_matrix = np.array(A).reshape((graph.number_of_locations, graph.number_of_houses + 2))\n",
    "A_matrix"
   ]
  },
  {
   "cell_type": "code",
   "execution_count": null,
   "metadata": {},
   "outputs": [],
   "source": [
    "W = []\n",
    "for v in model.getVars():\n",
    "    if v.VarName[0] == 'W':\n",
    "        W.append(v.x)\n",
    "\n",
    "W_matrix = np.array(W).reshape((graph.number_of_locations, graph.number_of_locations))\n",
    "W_matrix"
   ]
  },
  {
   "cell_type": "code",
   "execution_count": null,
   "metadata": {},
   "outputs": [],
   "source": []
  }
 ],
 "metadata": {
  "kernelspec": {
   "display_name": "Python 3",
   "language": "python",
   "name": "python3"
  },
  "language_info": {
   "codemirror_mode": {
    "name": "ipython",
    "version": 3
   },
   "file_extension": ".py",
   "mimetype": "text/x-python",
   "name": "python",
   "nbconvert_exporter": "python",
   "pygments_lexer": "ipython3",
   "version": "3.7.3"
  }
 },
 "nbformat": 4,
 "nbformat_minor": 2
}

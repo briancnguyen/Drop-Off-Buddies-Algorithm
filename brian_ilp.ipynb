{
 "cells": [
  {
   "cell_type": "markdown",
   "metadata": {},
   "source": [
    "# Libraries and Tools"
   ]
  },
  {
   "cell_type": "code",
   "execution_count": 1,
   "metadata": {},
   "outputs": [],
   "source": [
    "from utils import *\n",
    "from student_utils import *\n",
    "import gurobipy as grb\n",
    "import networkx as nx\n",
    "import matplotlib.pyplot as plt\n",
    "import numpy as np\n",
    "import pandas as pd"
   ]
  },
  {
   "cell_type": "markdown",
   "metadata": {},
   "source": [
    "# Graph Class"
   ]
  },
  {
   "cell_type": "code",
   "execution_count": 2,
   "metadata": {},
   "outputs": [],
   "source": [
    "\"\"\"\n",
    "A class that performs data preprocessing to gather important data and to provide useful functions\n",
    "\"\"\"\n",
    "class Graph:\n",
    "    def __init__(self, input_file):\n",
    "        parsed_data = data_parser(read_file(input_file))\n",
    "        self.data = {}\n",
    "        self.input_file = input_file\n",
    "        self.number_of_locations = parsed_data[0] \n",
    "        self.number_of_houses = parsed_data[1] \n",
    "        self.list_of_locations = parsed_data[2]  \n",
    "        self.list_of_houses = parsed_data[3] \n",
    "        self.starting_location = parsed_data[4] \n",
    "        self.adjacency_matrix = parsed_data[5] \n",
    "        self.G, message = adjacency_matrix_to_graph(self.adjacency_matrix)\n",
    "        if message:\n",
    "            print(message)\n",
    "        else:\n",
    "            print(\"Successful creation of Graph instance\")\n",
    "        \n",
    "    \"\"\"\n",
    "    Returns a matrix of shortest path distances between nodes using the Floyd-Warshall algorithm \n",
    "    If there is no path between to nodes the corresponding matrix entry will be Inf.\n",
    "    \"\"\"\n",
    "    def get_fw_matrix(self):\n",
    "        return nx.floyd_warshall_numpy(self.G)"
   ]
  },
  {
   "cell_type": "code",
   "execution_count": 3,
   "metadata": {
    "scrolled": true
   },
   "outputs": [
    {
     "name": "stdout",
     "output_type": "stream",
     "text": [
      "Successful creation of Graph instance\n"
     ]
    }
   ],
   "source": [
    "G = Graph(\"inputs/84_50.in\")"
   ]
  },
  {
   "cell_type": "code",
   "execution_count": 4,
   "metadata": {},
   "outputs": [
    {
     "data": {
      "text/plain": [
       "matrix([[ 0. , 13.9, 18.2, ..., 16.5, 15. , 14.5],\n",
       "        [13.9,  0. ,  5.7, ..., 18.4, 11.5,  8.6],\n",
       "        [18.2,  5.7,  0. , ..., 17.8, 10. ,  6.4],\n",
       "        ...,\n",
       "        [16.5, 18.4, 17.8, ...,  0. ,  8.2, 11.4],\n",
       "        [15. , 11.5, 10. , ...,  8.2,  0. ,  3.6],\n",
       "        [14.5,  8.6,  6.4, ..., 11.4,  3.6,  0. ]])"
      ]
     },
     "execution_count": 4,
     "metadata": {},
     "output_type": "execute_result"
    }
   ],
   "source": [
    "G.get_fw_matrix()"
   ]
  },
  {
   "cell_type": "code",
   "execution_count": 5,
   "metadata": {},
   "outputs": [
    {
     "data": {
      "text/plain": [
       "(45, 16, '20a')"
      ]
     },
     "execution_count": 5,
     "metadata": {},
     "output_type": "execute_result"
    }
   ],
   "source": [
    "G.number_of_locations, G.number_of_houses, G.starting_location"
   ]
  },
  {
   "cell_type": "markdown",
   "metadata": {},
   "source": [
    "# Integer Linear Programming"
   ]
  },
  {
   "cell_type": "code",
   "execution_count": null,
   "metadata": {},
   "outputs": [],
   "source": []
  }
 ],
 "metadata": {
  "kernelspec": {
   "display_name": "Python 3",
   "language": "python",
   "name": "python3"
  },
  "language_info": {
   "codemirror_mode": {
    "name": "ipython",
    "version": 3
   },
   "file_extension": ".py",
   "mimetype": "text/x-python",
   "name": "python",
   "nbconvert_exporter": "python",
   "pygments_lexer": "ipython3",
   "version": "3.7.3"
  }
 },
 "nbformat": 4,
 "nbformat_minor": 2
}

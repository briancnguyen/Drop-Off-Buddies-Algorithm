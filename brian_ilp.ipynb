{
 "cells": [
  {
   "cell_type": "markdown",
   "metadata": {},
   "source": [
    "# Libraries and Tools"
   ]
  },
  {
   "cell_type": "code",
   "execution_count": 1,
   "metadata": {},
   "outputs": [],
   "source": [
    "from utils import *\n",
    "from student_utils import *\n",
    "import gurobipy as grb\n",
    "import networkx as nx\n",
    "import matplotlib.pyplot as plt\n",
    "import numpy as np\n",
    "import pandas as pd"
   ]
  },
  {
   "cell_type": "markdown",
   "metadata": {},
   "source": [
    "# Graph Class"
   ]
  },
  {
   "cell_type": "code",
   "execution_count": 2,
   "metadata": {},
   "outputs": [],
   "source": [
    "\"\"\"\n",
    "A class that performs data preprocessing to gather important data and to provide useful functions\n",
    "\"\"\"\n",
    "class Graph:\n",
    "    def __init__(self, input_file):\n",
    "        parsed_data = data_parser(read_file(input_file))\n",
    "        self.data = {}\n",
    "        self.input_file = input_file\n",
    "        self.number_of_locations = parsed_data[0] \n",
    "        self.number_of_houses = parsed_data[1] \n",
    "        self.list_of_locations = parsed_data[2]  \n",
    "        self.list_of_houses = parsed_data[3] \n",
    "        self.starting_location = parsed_data[4] \n",
    "        self.adjacency_matrix = parsed_data[5] \n",
    "        self.G, message = adjacency_matrix_to_graph(self.adjacency_matrix)\n",
    "        if message:\n",
    "            print(message)\n",
    "        else:\n",
    "            print(\"Successful creation of Graph instance\")\n",
    "        \n",
    "    \"\"\"\n",
    "    Returns a NumPy matrix of shortest path distances between every pair of nodes using the Floyd-Warshall algorithm. \n",
    "    If there is no path between to nodes the corresponding matrix entry will be Inf.\n",
    "    \"\"\"\n",
    "    def get_fw_matrix(self):\n",
    "        return nx.floyd_warshall_numpy(self.G)"
   ]
  },
  {
   "cell_type": "code",
   "execution_count": 3,
   "metadata": {
    "scrolled": false
   },
   "outputs": [
    {
     "name": "stdout",
     "output_type": "stream",
     "text": [
      "Successful creation of Graph instance\n"
     ]
    }
   ],
   "source": [
    "graph = Graph(\"inputs/practice.in\")"
   ]
  },
  {
   "cell_type": "code",
   "execution_count": 4,
   "metadata": {},
   "outputs": [
    {
     "data": {
      "image/png": "[encoded data removed]",
      "text/plain": [
       "<Figure size 432x288 with 1 Axes>"
      ]
     },
     "metadata": {},
     "output_type": "display_data"
    }
   ],
   "source": [
    "nx.draw_networkx(graph.G)"
   ]
  },
  {
   "cell_type": "markdown",
   "metadata": {},
   "source": [
    "# Integer Linear Programming"
   ]
  },
  {
   "cell_type": "code",
   "execution_count": 5,
   "metadata": {},
   "outputs": [
    {
     "name": "stdout",
     "output_type": "stream",
     "text": [
      "Academic license - for non-commercial use only\n"
     ]
    }
   ],
   "source": [
    "model = grb.Model()"
   ]
  },
  {
   "cell_type": "code",
   "execution_count": 6,
   "metadata": {},
   "outputs": [],
   "source": [
    "\"\"\" Arrangement of Drop-Offs Matrix \"\"\"\n",
    "ARRANGEMENTS = []\n",
    "for r in range(graph.number_of_locations):\n",
    "    ROW = []\n",
    "    for c in range(graph.number_of_houses + 2):\n",
    "        matrix_element_name = \"A_\" + str(r) + \"_\" + str(c)\n",
    "        ROW.append(model.addVar(vtype=grb.GRB.BINARY, name=matrix_element_name))\n",
    "        model.update()\n",
    "    ARRANGEMENTS.append(ROW)\n",
    "ARRANGEMENTS = np.array(ARRANGEMENTS)\n",
    "\n",
    "\"\"\" Arrangement of Drop-Offs Constraints \"\"\"\n",
    "# Get the index number of where Soda is\n",
    "soda = graph.list_of_locations.index(graph.starting_location)\n",
    "# Check that we start at Soda\n",
    "model.addConstr(ARRANGEMENTS[soda][0] == 1)\n",
    "# Check that we end at Soda\n",
    "model.addConstr(ARRANGEMENTS[soda][graph.number_of_houses + 1] == 1)\n",
    "# Check that each column of ARRANGEMENTS sums up to 1\n",
    "for c in range(len(ARRANGEMENTS[0])):\n",
    "    model.addConstr(grb.quicksum(ARRANGEMENTS[:, c]) == 1)"
   ]
  },
  {
   "cell_type": "code",
   "execution_count": 7,
   "metadata": {},
   "outputs": [],
   "source": [
    "\"\"\" TA Walking Matrix \"\"\"\n",
    "WALKING = []\n",
    "for r in range(graph.number_of_locations):\n",
    "    ROW = []\n",
    "    for c in range(graph.number_of_locations):\n",
    "        matrix_element_name = \"W_\" + str(r) + \"_\" + str(c)\n",
    "        ROW.append(model.addVar(vtype=grb.GRB.BINARY, name=matrix_element_name))\n",
    "        model.update()\n",
    "    WALKING.append(ROW)\n",
    "WALKING = np.array(WALKING)"
   ]
  },
  {
   "cell_type": "code",
   "execution_count": 8,
   "metadata": {},
   "outputs": [],
   "source": [
    "\"\"\" TA Walking Constraints \"\"\"\n",
    "H = (np.array(convert_locations_to_indices(graph.list_of_locations, graph.list_of_houses)) != None).astype(int)\n",
    "\n",
    "# Check that each column i of WALKING sums up to H[i]\n",
    "for i in range(len(WALKING[0])):\n",
    "    model.addConstr(grb.quicksum(WALKING[:, i]) == H[i])\n",
    "    \n",
    "# 0:Soda, 1:Dwinelle, 2:Wheeler, 3:Campanile, 4:Cory, 5:RSF, 6:Barrows\n",
    "# Homes: Wheeler Campanile Cory RSF\n",
    "\n",
    "for vertex in range(len(WALKING)):\n",
    "    model.addConstr(grb.quicksum(WALKING[vertex,1:]) == grb.quicksum(ARRANGEMENTS[vertex,1:len(WALKING[0]) - 2]))"
   ]
  },
  {
   "cell_type": "code",
   "execution_count": 9,
   "metadata": {
    "scrolled": true
   },
   "outputs": [
    {
     "data": {
      "text/plain": [
       "(array([<gurobi.Var A_0_1>, <gurobi.Var A_0_2>, <gurobi.Var A_0_3>,\n",
       "        <gurobi.Var A_0_4>], dtype=object),\n",
       " array([<gurobi.Var A_0_0>, <gurobi.Var A_0_1>, <gurobi.Var A_0_2>,\n",
       "        <gurobi.Var A_0_3>, <gurobi.Var A_0_4>, <gurobi.Var A_0_5>],\n",
       "       dtype=object))"
      ]
     },
     "execution_count": 9,
     "metadata": {},
     "output_type": "execute_result"
    }
   ],
   "source": [
    "ARRANGEMENTS[0,1:len(WALKING[0]) - 2], ARRANGEMENTS[0]"
   ]
  },
  {
   "cell_type": "code",
   "execution_count": 10,
   "metadata": {},
   "outputs": [
    {
     "name": "stdout",
     "output_type": "stream",
     "text": [
      "Optimize a model with 22 rows, 91 columns and 163 nonzeros\n",
      "Model has 210 quadratic objective terms\n",
      "Variable types: 0 continuous, 91 integer (91 binary)\n",
      "Coefficient statistics:\n",
      "  Matrix range     [1e+00, 1e+00]\n",
      "  Objective range  [1e+00, 2e+00]\n",
      "  QObjective range [2e+00, 4e+00]\n",
      "  Bounds range     [1e+00, 1e+00]\n",
      "  RHS range        [1e+00, 1e+00]\n",
      "Found heuristic solution: objective 13.0000000\n",
      "Presolve removed 7 rows and 35 columns\n",
      "Presolve time: 0.00s\n",
      "Presolved: 141 rows, 182 columns, 490 nonzeros\n",
      "Variable types: 0 continuous, 182 integer (182 binary)\n",
      "\n",
      "Root relaxation: objective 3.000000e+00, 23 iterations, 0.00 seconds\n",
      "\n",
      "    Nodes    |    Current Node    |     Objective Bounds      |     Work\n",
      " Expl Unexpl |  Obj  Depth IntInf | Incumbent    BestBd   Gap | It/Node Time\n",
      "\n",
      "     0     0    3.00000    0    8   13.00000    3.00000  76.9%     -    0s\n",
      "H    0     0                       9.0000000    3.00000  66.7%     -    0s\n",
      "     0     0    3.00000    0   12    9.00000    3.00000  66.7%     -    0s\n",
      "H    0     0                       8.0000000    3.00000  62.5%     -    0s\n",
      "H    0     0                       7.0000000    3.00000  57.1%     -    0s\n",
      "     0     0    3.00000    0    8    7.00000    3.00000  57.1%     -    0s\n",
      "     0     0    3.00000    0    8    7.00000    3.00000  57.1%     -    0s\n",
      "     0     0    3.00000    0    8    7.00000    3.00000  57.1%     -    0s\n",
      "     0     2    3.00000    0    8    7.00000    3.00000  57.1%     -    0s\n",
      "H    3     2                       5.0000000    3.50000  30.0%  10.0    0s\n",
      "\n",
      "Cutting planes:\n",
      "  Zero half: 5\n",
      "\n",
      "Explored 7 nodes (113 simplex iterations) in 0.24 seconds\n",
      "Thread count was 4 (of 4 available processors)\n",
      "\n",
      "Solution count 5: 5 7 8 ... 13\n",
      "\n",
      "Optimal solution found (tolerance 1.00e-04)\n",
      "Best objective 5.000000000000e+00, best bound 5.000000000000e+00, gap 0.0000%\n"
     ]
    }
   ],
   "source": [
    "\"\"\" Driving Cost Function \"\"\"\n",
    "DISTANCES = graph.get_fw_matrix()\n",
    "driving_cost_function = []\n",
    "for c in range(graph.number_of_houses + 1):\n",
    "    summation = []\n",
    "    for i in range(graph.number_of_locations):\n",
    "        for j in range(graph.number_of_locations):\n",
    "            summation.append(\n",
    "                grb.QuadExpr(ARRANGEMENTS[i][c] * DISTANCES.item((i, j)) * ARRANGEMENTS[j][c + 1])\n",
    "            )\n",
    "            model.update()\n",
    "    driving_cost_function.append(grb.quicksum(summation))\n",
    "    \n",
    "\"\"\" Walking Cost Function \"\"\"\n",
    "walking_cost_function = []\n",
    "for row in range(graph.number_of_locations):\n",
    "    for col in range(graph.number_of_locations):\n",
    "        walking_cost_function.append(grb.LinExpr(WALKING[row][col] * DISTANCES.item((row, col))))\n",
    "        model.update()\n",
    "        \n",
    "\"\"\" Set Objective Function \"\"\"\n",
    "cost_function = driving_cost_function + walking_cost_function\n",
    "model.setObjective(grb.quicksum(cost_function), grb.GRB.MINIMIZE)\n",
    "\n",
    "\"\"\" Minimize Objective Function \"\"\"\n",
    "model.optimize()"
   ]
  },
  {
   "cell_type": "code",
   "execution_count": 11,
   "metadata": {},
   "outputs": [
    {
     "data": {
      "text/plain": [
       "array([[ 1., -0., -0., -0., -0.,  1.],\n",
       "       [ 0.,  0., -0., -0.,  0.,  0.],\n",
       "       [ 0., -0.,  0.,  0., -0.,  0.],\n",
       "       [ 0.,  1.,  1.,  1.,  1.,  0.],\n",
       "       [ 0., -0.,  0.,  0., -0.,  0.],\n",
       "       [ 0., -0.,  0.,  0., -0.,  0.],\n",
       "       [ 0.,  0., -0., -0.,  0.,  0.]])"
      ]
     },
     "execution_count": 11,
     "metadata": {},
     "output_type": "execute_result"
    }
   ],
   "source": [
    "A = []\n",
    "for v in model.getVars():\n",
    "    if v.VarName[0] == 'A':\n",
    "        A.append(v.x)\n",
    "\n",
    "A_matrix = np.array(A).reshape((graph.number_of_locations, graph.number_of_houses + 2))\n",
    "A_matrix"
   ]
  },
  {
   "cell_type": "code",
   "execution_count": 12,
   "metadata": {},
   "outputs": [
    {
     "data": {
      "text/plain": [
       "array([[ 0.,  0., -0., -0., -0., -0.,  0.],\n",
       "       [ 0.,  0.,  0.,  0.,  0.,  0.,  0.],\n",
       "       [ 0.,  0.,  0., -0., -0., -0.,  0.],\n",
       "       [ 0.,  0.,  1.,  1.,  1.,  1.,  0.],\n",
       "       [ 0.,  0., -0., -0.,  0., -0.,  0.],\n",
       "       [ 0.,  0., -0., -0., -0.,  0.,  0.],\n",
       "       [ 0.,  0.,  0.,  0.,  0.,  0.,  0.]])"
      ]
     },
     "execution_count": 12,
     "metadata": {},
     "output_type": "execute_result"
    }
   ],
   "source": [
    "W = []\n",
    "for v in model.getVars():\n",
    "    if v.VarName[0] == 'W':\n",
    "        W.append(v.x)\n",
    "\n",
    "W_matrix = np.array(W).reshape((graph.number_of_locations, graph.number_of_locations))\n",
    "W_matrix"
   ]
  },
  {
   "cell_type": "code",
   "execution_count": null,
   "metadata": {},
   "outputs": [],
   "source": []
  }
 ],
 "metadata": {
  "kernelspec": {
   "display_name": "Python 3",
   "language": "python",
   "name": "python3"
  },
  "language_info": {
   "codemirror_mode": {
    "name": "ipython",
    "version": 3
   },
   "file_extension": ".py",
   "mimetype": "text/x-python",
   "name": "python",
   "nbconvert_exporter": "python",
   "pygments_lexer": "ipython3",
   "version": "3.7.3"
  }
 },
 "nbformat": 4,
 "nbformat_minor": 2
}

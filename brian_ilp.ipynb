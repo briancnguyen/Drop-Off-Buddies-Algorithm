{
 "cells": [
  {
   "cell_type": "markdown",
   "metadata": {},
   "source": [
    "# Libraries and Tools"
   ]
  },
  {
   "cell_type": "code",
   "execution_count": 41,
   "metadata": {},
   "outputs": [],
   "source": [
    "from utils import *\n",
    "from student_utils import *\n",
    "from brian_graph import Graph\n",
    "import matplotlib.pyplot as plt\n",
    "import numpy as np\n",
    "import pandas as pd"
   ]
  },
  {
   "cell_type": "code",
   "execution_count": 42,
   "metadata": {
    "scrolled": false
   },
   "outputs": [
    {
     "name": "stdout",
     "output_type": "stream",
     "text": [
      "Successful instance of Graph class\n"
     ]
    }
   ],
   "source": [
    "#graph = Graph(\"inputs/84_50.in\")\n",
    "#graph = Graph(\"inputs/practice.in\") # Homework example\n",
    "#graph = Graph(\"inputs/264_50.in\") # Pauls Example\n",
    "graph = Graph(\"inputs/basic.in\") # Basic Example"
   ]
  },
  {
   "cell_type": "code",
   "execution_count": 43,
   "metadata": {},
   "outputs": [
    {
     "data": {
      "image/png": "[encoded data removed]",
      "text/plain": [
       "<Figure size 432x288 with 1 Axes>"
      ]
     },
     "metadata": {},
     "output_type": "display_data"
    }
   ],
   "source": [
    "nx.draw_networkx(graph.G)"
   ]
  },
  {
   "cell_type": "markdown",
   "metadata": {},
   "source": [
    "# Integer Linear Programming"
   ]
  },
  {
   "cell_type": "code",
   "execution_count": 44,
   "metadata": {
    "scrolled": true
   },
   "outputs": [
    {
     "name": "stdout",
     "output_type": "stream",
     "text": [
      "Optimize a model with 11 rows, 18 columns and 32 nonzeros\n",
      "Model has 12 quadratic objective terms\n",
      "Variable types: 0 continuous, 18 integer (18 binary)\n",
      "Coefficient statistics:\n",
      "  Matrix range     [1e+00, 1e+00]\n",
      "  Objective range  [1e+00, 2e+00]\n",
      "  QObjective range [2e+00, 4e+00]\n",
      "  Bounds range     [1e+00, 1e+00]\n",
      "  RHS range        [1e+00, 1e+00]\n",
      "Found heuristic solution: objective 4.0000000\n",
      "Presolve removed 11 rows and 18 columns\n",
      "Presolve time: 0.00s\n",
      "Presolve: All rows and columns removed\n",
      "\n",
      "Explored 0 nodes (0 simplex iterations) in 0.07 seconds\n",
      "Thread count was 1 (of 4 available processors)\n",
      "\n",
      "Solution count 2: 1 4 \n",
      "\n",
      "Optimal solution found (tolerance 1.00e-04)\n",
      "Best objective 1.000000000000e+00, best bound 1.000000000000e+00, gap 0.0000%\n"
     ]
    }
   ],
   "source": [
    "graph.ILP()"
   ]
  },
  {
   "cell_type": "code",
   "execution_count": 45,
   "metadata": {},
   "outputs": [],
   "source": [
    "A = graph.optimal_arrangement_matrix()"
   ]
  },
  {
   "cell_type": "code",
   "execution_count": 46,
   "metadata": {
    "scrolled": true
   },
   "outputs": [],
   "source": [
    "W = graph.optimal_walking_matrix()"
   ]
  },
  {
   "cell_type": "code",
   "execution_count": 47,
   "metadata": {},
   "outputs": [
    {
     "data": {
      "text/plain": [
       "['Soda', 'Soda', 'Soda']"
      ]
     },
     "execution_count": 47,
     "metadata": {},
     "output_type": "execute_result"
    }
   ],
   "source": [
    "# Output format\n",
    "\"\"\"\n",
    "Drop-Off Locations: Soda Dwinelle Campanile Barrows Soda\n",
    "Number of Distinct Locations Dropped Off: 3\n",
    "Soda Cory\n",
    "Dwinelle Wheeler RSF\n",
    "Campanile Campanile\n",
    "\"\"\"\n",
    "def cycle_compression(cycle):\n",
    "    locations = []\n",
    "    previous = None\n",
    "    for location in cycle:\n",
    "        if location != previous:\n",
    "            locations.append(location)\n",
    "        previous = location\n",
    "    return locations\n",
    "\n",
    "vl_map = dict(enumerate(graph.list_of_locations))\n",
    "\n",
    "cycle = []\n",
    "for c in range(len(A[0])):\n",
    "    vertex = np.where(A[:, c] == 1)[0][0]\n",
    "    cycle.append(vl_map[vertex])\n",
    "cycle"
   ]
  },
  {
   "cell_type": "code",
   "execution_count": 48,
   "metadata": {},
   "outputs": [
    {
     "data": {
      "text/plain": [
       "['Soda']"
      ]
     },
     "execution_count": 48,
     "metadata": {},
     "output_type": "execute_result"
    }
   ],
   "source": [
    "# Final Cycle Output\n",
    "cycle_compression(cycle)"
   ]
  },
  {
   "cell_type": "code",
   "execution_count": 49,
   "metadata": {},
   "outputs": [
    {
     "data": {
      "text/plain": [
       "1"
      ]
     },
     "execution_count": 49,
     "metadata": {},
     "output_type": "execute_result"
    }
   ],
   "source": [
    "# Number of Distinct Locations\n",
    "num_distinct_locations = len(set(cycle[1:-1]))\n",
    "num_distinct_locations"
   ]
  },
  {
   "cell_type": "code",
   "execution_count": 50,
   "metadata": {},
   "outputs": [
    {
     "data": {
      "text/plain": [
       "[(2, 'Home')]"
      ]
     },
     "execution_count": 50,
     "metadata": {},
     "output_type": "execute_result"
    }
   ],
   "source": [
    "homes_set = set(graph.list_of_houses)\n",
    "TAs = []\n",
    "for i in range(len(graph.list_of_locations)):\n",
    "    if graph.list_of_locations[i] in homes_set:\n",
    "        TAs.append((i, graph.list_of_locations[i]))\n",
    "TAs"
   ]
  },
  {
   "cell_type": "code",
   "execution_count": 51,
   "metadata": {},
   "outputs": [],
   "source": [
    "# Drop-Off Locations\n",
    "drop_off_map = {}\n",
    "for index, home in TAs:\n",
    "    vertex = np.where(W[:, index] == 1)[0][0]\n",
    "    drop_off_location = vl_map[vertex]\n",
    "    if drop_off_location not in drop_off_map:\n",
    "        drop_off_map[drop_off_location] = [home,]\n",
    "    else:\n",
    "        drop_off_map.get(drop_off_location, []).append(home)"
   ]
  },
  {
   "cell_type": "code",
   "execution_count": 52,
   "metadata": {},
   "outputs": [
    {
     "data": {
      "text/plain": [
       "{'Soda': ['Home']}"
      ]
     },
     "execution_count": 52,
     "metadata": {},
     "output_type": "execute_result"
    }
   ],
   "source": [
    "drop_off_map"
   ]
  }
 ],
 "metadata": {
  "kernelspec": {
   "display_name": "Python 3",
   "language": "python",
   "name": "python3"
  },
  "language_info": {
   "codemirror_mode": {
    "name": "ipython",
    "version": 3
   },
   "file_extension": ".py",
   "mimetype": "text/x-python",
   "name": "python",
   "nbconvert_exporter": "python",
   "pygments_lexer": "ipython3",
   "version": "3.7.3"
  }
 },
 "nbformat": 4,
 "nbformat_minor": 2
}

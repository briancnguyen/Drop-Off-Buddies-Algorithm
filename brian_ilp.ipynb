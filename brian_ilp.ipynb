{
 "cells": [
  {
   "cell_type": "markdown",
   "metadata": {},
   "source": [
    "# Libraries and Tools"
   ]
  },
  {
   "cell_type": "code",
   "execution_count": 1,
   "metadata": {},
   "outputs": [],
   "source": [
    "from utils import *\n",
    "from student_utils import *\n",
    "import gurobipy as grb\n",
    "import networkx as nx\n",
    "import matplotlib.pyplot as plt\n",
    "import numpy as np\n",
    "import pandas as pd"
   ]
  },
  {
   "cell_type": "markdown",
   "metadata": {},
   "source": [
    "# Graph Class"
   ]
  },
  {
   "cell_type": "code",
   "execution_count": 2,
   "metadata": {},
   "outputs": [],
   "source": [
    "class Graph:\n",
    "    def __init__(self, input_file):\n",
    "        parsed_data = data_parser(read_file(input_file))\n",
    "        self.data = {}\n",
    "        self.input_file = input_file\n",
    "        self.number_of_locations = parsed_data[0] \n",
    "        self.number_of_houses = parsed_data[1] \n",
    "        self.list_of_locations = parsed_data[2]  \n",
    "        self.list_of_houses = parsed_data[3] \n",
    "        self.starting_location = parsed_data[4] \n",
    "        self.adjacency_matrix = parsed_data[5] \n",
    "        self.G, message = adjacency_matrix_to_graph(self.adjacency_matrix)\n",
    "        if message:\n",
    "            print(message)\n",
    "        else:\n",
    "            print(\"Successful instance of Graph class\")\n",
    "            \n",
    "    def __arrangement_matrix(self):\n",
    "        arrangement_matrix = []\n",
    "        for r in range(self.number_of_locations):\n",
    "            row = []\n",
    "            for c in range(self.number_of_houses + 2):\n",
    "                matrix_element_name = \"A_\" + str(r) + \"_\" + str(c)\n",
    "                row.append(self.model.addVar(vtype=grb.GRB.BINARY, name=matrix_element_name))\n",
    "                self.model.update()\n",
    "            arrangement_matrix.append(row)\n",
    "        return np.array(arrangement_matrix)\n",
    "        \n",
    "    def __arrangement_constraints(self):\n",
    "        # Get the index number of where Soda is\n",
    "        soda = self.list_of_locations.index(self.starting_location)\n",
    "        # Check that we start at Soda\n",
    "        self.model.addConstr(self.arrangement_matrix[soda][0] == 1)\n",
    "        # Check that we end at Soda\n",
    "        self.model.addConstr(self.arrangement_matrix[soda][self.number_of_houses + 1] == 1)\n",
    "        # Check that each column of arrangement_matrix sums up to 1\n",
    "        for c in range(len(self.arrangement_matrix[0])):\n",
    "            self.model.addConstr(grb.quicksum(self.arrangement_matrix[:, c]) == 1)\n",
    "            \n",
    "    def __walking_matrix(self):\n",
    "        walking_matrix = []\n",
    "        for r in range(self.number_of_locations):\n",
    "            row = []\n",
    "            for c in range(self.number_of_locations):\n",
    "                matrix_element_name = \"W_\" + str(r) + \"_\" + str(c)\n",
    "                row.append(self.model.addVar(vtype=grb.GRB.BINARY, name=matrix_element_name))\n",
    "                self.model.update()\n",
    "            walking_matrix.append(row)\n",
    "        return np.array(walking_matrix)\n",
    "        \n",
    "    def __walking_constraints(self):\n",
    "        # Boolean array of whether or not a location is a home by index\n",
    "        H = (np.array(convert_locations_to_indices(self.list_of_locations, \n",
    "                                                   self.list_of_houses)) != None).astype(int)\n",
    "        # Check that each column i of walking_matrix sums up to H[i]\n",
    "        for i in range(len(self.walking_matrix[0])):\n",
    "            self.model.addConstr(grb.quicksum(self.walking_matrix[:, i]) == H[i])\n",
    "        # Check that we matched correct homes\n",
    "        for vertex in range(len(self.walking_matrix)):\n",
    "            self.model.addConstr(\n",
    "                grb.quicksum(self.walking_matrix[vertex, :]) == \n",
    "                grb.quicksum(self.arrangement_matrix[vertex, 1:len(self.arrangement_matrix[0]) - 1]))\n",
    "            \n",
    "    def __cost_function(self):\n",
    "        \"\"\" Driving Cost Function \"\"\"\n",
    "        distances = nx.floyd_warshall_numpy(self.G)\n",
    "        driving_cost_function = []\n",
    "        for c in range(self.number_of_houses + 1):\n",
    "            summation = []\n",
    "            for i in range(self.number_of_locations):\n",
    "                for j in range(self.number_of_locations):\n",
    "                    summation.append(\n",
    "                        grb.QuadExpr(self.arrangement_matrix[i][c] * distances.item((i, j)) * self.arrangement_matrix[j][c + 1])\n",
    "                    )\n",
    "                    self.model.update()\n",
    "            driving_cost_function.append(grb.quicksum(summation))\n",
    "\n",
    "        \"\"\" Walking Cost Function \"\"\"\n",
    "        walking_cost_function = []\n",
    "        for row in range(self.number_of_locations):\n",
    "            for col in range(self.number_of_locations):\n",
    "                walking_cost_function.append(grb.LinExpr(self.walking_matrix[row][col] * distances.item((row, col))))\n",
    "                self.model.update()\n",
    "\n",
    "        \"\"\" Set Objective Function \"\"\"\n",
    "        cost_function = driving_cost_function + walking_cost_function\n",
    "        self.model.setObjective(grb.quicksum(cost_function), grb.GRB.MINIMIZE)\n",
    "            \n",
    "    def ILP(self):\n",
    "        self.model = grb.Model()\n",
    "        self.arrangement_matrix = self.__arrangement_matrix()\n",
    "        self.walking_matrix = self.__walking_matrix()\n",
    "        self.__arrangement_constraints()\n",
    "        self.__walking_constraints()\n",
    "        self.__cost_function()\n",
    "        self.model.optimize()\n",
    "        \n",
    "    def optimal_arrangement_matrix(self):\n",
    "        A = []\n",
    "        for v in self.model.getVars():\n",
    "            if v.VarName[0] == 'A':\n",
    "                A.append(v.x)\n",
    "        return np.array(A).reshape((self.number_of_locations, self.number_of_houses + 2))\n",
    "    \n",
    "    def optimal_walking_matrix(self):\n",
    "        W = []\n",
    "        for v in self.model.getVars():\n",
    "            if v.VarName[0] == 'W':\n",
    "                W.append(v.x)\n",
    "        return np.array(W).reshape((self.number_of_locations, self.number_of_locations))\n",
    "        "
   ]
  },
  {
   "cell_type": "code",
   "execution_count": 3,
   "metadata": {
    "scrolled": false
   },
   "outputs": [
    {
     "name": "stdout",
     "output_type": "stream",
     "text": [
      "Successful instance of Graph class\n"
     ]
    }
   ],
   "source": [
    "#graph = Graph(\"inputs/84_50.in\")\n",
    "graph = Graph(\"inputs/practice.in\") # Homework example\n",
    "#graph = Graph(\"inputs/264_50.in\") # Pauls Example\n",
    "#graph = Graph(\"inputs/basic.in\") # Basic Example"
   ]
  },
  {
   "cell_type": "code",
   "execution_count": 4,
   "metadata": {},
   "outputs": [
    {
     "data": {
      "image/png": "[encoded data removed]",
      "text/plain": [
       "<Figure size 432x288 with 1 Axes>"
      ]
     },
     "metadata": {},
     "output_type": "display_data"
    }
   ],
   "source": [
    "nx.draw_networkx(graph.G)"
   ]
  },
  {
   "cell_type": "markdown",
   "metadata": {},
   "source": [
    "# Integer Linear Programming"
   ]
  },
  {
   "cell_type": "code",
   "execution_count": 5,
   "metadata": {
    "scrolled": true
   },
   "outputs": [
    {
     "name": "stdout",
     "output_type": "stream",
     "text": [
      "Academic license - for non-commercial use only\n",
      "Optimize a model with 22 rows, 91 columns and 170 nonzeros\n",
      "Model has 210 quadratic objective terms\n",
      "Variable types: 0 continuous, 91 integer (91 binary)\n",
      "Coefficient statistics:\n",
      "  Matrix range     [1e+00, 1e+00]\n",
      "  Objective range  [1e+00, 2e+00]\n",
      "  QObjective range [2e+00, 4e+00]\n",
      "  Bounds range     [1e+00, 1e+00]\n",
      "  RHS range        [1e+00, 1e+00]\n",
      "Found heuristic solution: objective 13.0000000\n",
      "Presolve removed 7 rows and 35 columns\n",
      "Presolve time: 0.00s\n",
      "Presolved: 141 rows, 182 columns, 490 nonzeros\n",
      "Variable types: 0 continuous, 182 integer (182 binary)\n",
      "\n",
      "Root relaxation: objective 3.000000e+00, 23 iterations, 0.00 seconds\n",
      "\n",
      "    Nodes    |    Current Node    |     Objective Bounds      |     Work\n",
      " Expl Unexpl |  Obj  Depth IntInf | Incumbent    BestBd   Gap | It/Node Time\n",
      "\n",
      "     0     0    3.00000    0    8   13.00000    3.00000  76.9%     -    0s\n",
      "H    0     0                       9.0000000    3.00000  66.7%     -    0s\n",
      "     0     0    3.00000    0   12    9.00000    3.00000  66.7%     -    0s\n",
      "H    0     0                       8.0000000    3.00000  62.5%     -    0s\n",
      "H    0     0                       7.0000000    3.00000  57.1%     -    0s\n",
      "     0     0    3.00000    0    8    7.00000    3.00000  57.1%     -    0s\n",
      "     0     0    3.00000    0    8    7.00000    3.00000  57.1%     -    0s\n",
      "     0     0    3.00000    0    8    7.00000    3.00000  57.1%     -    0s\n",
      "     0     2    3.00000    0    8    7.00000    3.00000  57.1%     -    0s\n",
      "H    3     2                       5.0000000    3.50000  30.0%  10.0    0s\n",
      "\n",
      "Cutting planes:\n",
      "  Zero half: 5\n",
      "\n",
      "Explored 7 nodes (113 simplex iterations) in 0.18 seconds\n",
      "Thread count was 4 (of 4 available processors)\n",
      "\n",
      "Solution count 5: 5 7 8 ... 13\n",
      "\n",
      "Optimal solution found (tolerance 1.00e-04)\n",
      "Best objective 5.000000000000e+00, best bound 5.000000000000e+00, gap 0.0000%\n"
     ]
    }
   ],
   "source": [
    "graph.ILP()"
   ]
  },
  {
   "cell_type": "code",
   "execution_count": null,
   "metadata": {},
   "outputs": [],
   "source": [
    "graph.optimal_arrangement_matrix()"
   ]
  },
  {
   "cell_type": "code",
   "execution_count": null,
   "metadata": {},
   "outputs": [],
   "source": [
    "graph.optimal_walking_matrix()"
   ]
  }
 ],
 "metadata": {
  "kernelspec": {
   "display_name": "Python 3",
   "language": "python",
   "name": "python3"
  },
  "language_info": {
   "codemirror_mode": {
    "name": "ipython",
    "version": 3
   },
   "file_extension": ".py",
   "mimetype": "text/x-python",
   "name": "python",
   "nbconvert_exporter": "python",
   "pygments_lexer": "ipython3",
   "version": "3.7.3"
  }
 },
 "nbformat": 4,
 "nbformat_minor": 2
}
